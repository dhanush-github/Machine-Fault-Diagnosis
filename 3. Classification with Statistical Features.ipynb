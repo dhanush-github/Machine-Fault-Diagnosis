{
 "cells": [
  {
   "cell_type": "code",
   "execution_count": null,
   "id": "8438bead",
   "metadata": {
    "id": "8438bead"
   },
   "outputs": [],
   "source": [
    "import matplotlib.pyplot as plt\n",
    "import numpy as np\n",
    "import pandas as pd\n",
    "import seaborn as sns"
   ]
  },
  {
   "cell_type": "code",
   "execution_count": null,
   "id": "9c73b131",
   "metadata": {
    "id": "9c73b131"
   },
   "outputs": [],
   "source": [
    "df1=pd.read_csv('Normal_Bearing.csv')\n",
    "df2=pd.read_csv('outer_race_fault_test_2.csv')\n",
    "df3=pd.read_csv('outer_race_fault_test_3.csv')\n",
    "df4=pd.read_csv('inner_race_fault.csv')\n",
    "df5=pd.read_csv('roller_element_fault.csv')"
   ]
  },
  {
   "cell_type": "code",
   "execution_count": null,
   "id": "7f665d14",
   "metadata": {
    "id": "7f665d14",
    "outputId": "0a30cd13-c221-4e56-c576-14e44ce856a8"
   },
   "outputs": [
    {
     "data": {
      "text/html": [
       "<div>\n",
       "<style scoped>\n",
       "    .dataframe tbody tr th:only-of-type {\n",
       "        vertical-align: middle;\n",
       "    }\n",
       "\n",
       "    .dataframe tbody tr th {\n",
       "        vertical-align: top;\n",
       "    }\n",
       "\n",
       "    .dataframe thead th {\n",
       "        text-align: right;\n",
       "    }\n",
       "</style>\n",
       "<table border=\"1\" class=\"dataframe\">\n",
       "  <thead>\n",
       "    <tr style=\"text-align: right;\">\n",
       "      <th></th>\n",
       "      <th>Max</th>\n",
       "      <th>Min</th>\n",
       "      <th>Mean</th>\n",
       "      <th>Std</th>\n",
       "      <th>RMS</th>\n",
       "      <th>Skewness</th>\n",
       "      <th>Kurtosis</th>\n",
       "      <th>Crest Factor</th>\n",
       "      <th>Form Factor</th>\n",
       "      <th>Fault</th>\n",
       "    </tr>\n",
       "  </thead>\n",
       "  <tbody>\n",
       "    <tr>\n",
       "      <th>0</th>\n",
       "      <td>0.398</td>\n",
       "      <td>-0.625</td>\n",
       "      <td>-0.117085</td>\n",
       "      <td>0.093069</td>\n",
       "      <td>0.149567</td>\n",
       "      <td>-0.012753</td>\n",
       "      <td>0.931376</td>\n",
       "      <td>2.661008</td>\n",
       "      <td>-1.277421</td>\n",
       "      <td>Normal</td>\n",
       "    </tr>\n",
       "    <tr>\n",
       "      <th>1</th>\n",
       "      <td>0.422</td>\n",
       "      <td>-0.657</td>\n",
       "      <td>-0.117744</td>\n",
       "      <td>0.093095</td>\n",
       "      <td>0.150100</td>\n",
       "      <td>-0.033307</td>\n",
       "      <td>0.876667</td>\n",
       "      <td>2.811460</td>\n",
       "      <td>-1.274798</td>\n",
       "      <td>Normal</td>\n",
       "    </tr>\n",
       "    <tr>\n",
       "      <th>2</th>\n",
       "      <td>0.466</td>\n",
       "      <td>-0.605</td>\n",
       "      <td>-0.116695</td>\n",
       "      <td>0.091405</td>\n",
       "      <td>0.148230</td>\n",
       "      <td>0.022064</td>\n",
       "      <td>0.946745</td>\n",
       "      <td>3.143757</td>\n",
       "      <td>-1.270240</td>\n",
       "      <td>Normal</td>\n",
       "    </tr>\n",
       "    <tr>\n",
       "      <th>3</th>\n",
       "      <td>0.356</td>\n",
       "      <td>-0.713</td>\n",
       "      <td>-0.117174</td>\n",
       "      <td>0.094340</td>\n",
       "      <td>0.150430</td>\n",
       "      <td>-0.088984</td>\n",
       "      <td>0.858388</td>\n",
       "      <td>2.366546</td>\n",
       "      <td>-1.283821</td>\n",
       "      <td>Normal</td>\n",
       "    </tr>\n",
       "    <tr>\n",
       "      <th>4</th>\n",
       "      <td>0.500</td>\n",
       "      <td>-0.647</td>\n",
       "      <td>-0.117876</td>\n",
       "      <td>0.093033</td>\n",
       "      <td>0.150165</td>\n",
       "      <td>-0.036459</td>\n",
       "      <td>0.957214</td>\n",
       "      <td>3.329671</td>\n",
       "      <td>-1.273921</td>\n",
       "      <td>Normal</td>\n",
       "    </tr>\n",
       "    <tr>\n",
       "      <th>...</th>\n",
       "      <td>...</td>\n",
       "      <td>...</td>\n",
       "      <td>...</td>\n",
       "      <td>...</td>\n",
       "      <td>...</td>\n",
       "      <td>...</td>\n",
       "      <td>...</td>\n",
       "      <td>...</td>\n",
       "      <td>...</td>\n",
       "      <td>...</td>\n",
       "    </tr>\n",
       "    <tr>\n",
       "      <th>460</th>\n",
       "      <td>0.229</td>\n",
       "      <td>-0.488</td>\n",
       "      <td>-0.118015</td>\n",
       "      <td>0.083851</td>\n",
       "      <td>0.144769</td>\n",
       "      <td>-0.067698</td>\n",
       "      <td>0.233650</td>\n",
       "      <td>1.581825</td>\n",
       "      <td>-1.226706</td>\n",
       "      <td>Roller Element</td>\n",
       "    </tr>\n",
       "    <tr>\n",
       "      <th>461</th>\n",
       "      <td>0.303</td>\n",
       "      <td>-0.569</td>\n",
       "      <td>-0.117486</td>\n",
       "      <td>0.082563</td>\n",
       "      <td>0.143595</td>\n",
       "      <td>-0.005831</td>\n",
       "      <td>0.369785</td>\n",
       "      <td>2.110106</td>\n",
       "      <td>-1.222223</td>\n",
       "      <td>Roller Element</td>\n",
       "    </tr>\n",
       "    <tr>\n",
       "      <th>462</th>\n",
       "      <td>0.232</td>\n",
       "      <td>-0.569</td>\n",
       "      <td>-0.116743</td>\n",
       "      <td>0.084937</td>\n",
       "      <td>0.144371</td>\n",
       "      <td>-0.041197</td>\n",
       "      <td>0.247918</td>\n",
       "      <td>1.606971</td>\n",
       "      <td>-1.236654</td>\n",
       "      <td>Roller Element</td>\n",
       "    </tr>\n",
       "    <tr>\n",
       "      <th>463</th>\n",
       "      <td>0.293</td>\n",
       "      <td>-0.771</td>\n",
       "      <td>-0.117529</td>\n",
       "      <td>0.083075</td>\n",
       "      <td>0.143924</td>\n",
       "      <td>-0.024656</td>\n",
       "      <td>0.533415</td>\n",
       "      <td>2.035792</td>\n",
       "      <td>-1.224588</td>\n",
       "      <td>Roller Element</td>\n",
       "    </tr>\n",
       "    <tr>\n",
       "      <th>464</th>\n",
       "      <td>0.227</td>\n",
       "      <td>-0.537</td>\n",
       "      <td>-0.117737</td>\n",
       "      <td>0.082736</td>\n",
       "      <td>0.143899</td>\n",
       "      <td>-0.019219</td>\n",
       "      <td>0.263400</td>\n",
       "      <td>1.577499</td>\n",
       "      <td>-1.222208</td>\n",
       "      <td>Roller Element</td>\n",
       "    </tr>\n",
       "  </tbody>\n",
       "</table>\n",
       "<p>2278 rows × 10 columns</p>\n",
       "</div>"
      ],
      "text/plain": [
       "       Max    Min      Mean       Std       RMS  Skewness  Kurtosis  \\\n",
       "0    0.398 -0.625 -0.117085  0.093069  0.149567 -0.012753  0.931376   \n",
       "1    0.422 -0.657 -0.117744  0.093095  0.150100 -0.033307  0.876667   \n",
       "2    0.466 -0.605 -0.116695  0.091405  0.148230  0.022064  0.946745   \n",
       "3    0.356 -0.713 -0.117174  0.094340  0.150430 -0.088984  0.858388   \n",
       "4    0.500 -0.647 -0.117876  0.093033  0.150165 -0.036459  0.957214   \n",
       "..     ...    ...       ...       ...       ...       ...       ...   \n",
       "460  0.229 -0.488 -0.118015  0.083851  0.144769 -0.067698  0.233650   \n",
       "461  0.303 -0.569 -0.117486  0.082563  0.143595 -0.005831  0.369785   \n",
       "462  0.232 -0.569 -0.116743  0.084937  0.144371 -0.041197  0.247918   \n",
       "463  0.293 -0.771 -0.117529  0.083075  0.143924 -0.024656  0.533415   \n",
       "464  0.227 -0.537 -0.117737  0.082736  0.143899 -0.019219  0.263400   \n",
       "\n",
       "     Crest Factor  Form Factor           Fault  \n",
       "0        2.661008    -1.277421          Normal  \n",
       "1        2.811460    -1.274798          Normal  \n",
       "2        3.143757    -1.270240          Normal  \n",
       "3        2.366546    -1.283821          Normal  \n",
       "4        3.329671    -1.273921          Normal  \n",
       "..            ...          ...             ...  \n",
       "460      1.581825    -1.226706  Roller Element  \n",
       "461      2.110106    -1.222223  Roller Element  \n",
       "462      1.606971    -1.236654  Roller Element  \n",
       "463      2.035792    -1.224588  Roller Element  \n",
       "464      1.577499    -1.222208  Roller Element  \n",
       "\n",
       "[2278 rows x 10 columns]"
      ]
     },
     "execution_count": 66,
     "metadata": {},
     "output_type": "execute_result"
    }
   ],
   "source": [
    "df = pd.concat([df1,df2,df3,df4,df5])\n",
    "df"
   ]
  },
  {
   "cell_type": "code",
   "execution_count": null,
   "id": "5cccd9b9",
   "metadata": {
    "id": "5cccd9b9",
    "outputId": "d68a15a1-e18c-4e42-c84d-d8b27796543b"
   },
   "outputs": [
    {
     "data": {
      "text/plain": [
       "array(['Normal', 'Outer Race', 'Inner Race', 'Roller Element'],\n",
       "      dtype=object)"
      ]
     },
     "execution_count": 67,
     "metadata": {},
     "output_type": "execute_result"
    }
   ],
   "source": [
    "df['Fault'].unique()"
   ]
  },
  {
   "cell_type": "code",
   "execution_count": null,
   "id": "ddfe4827",
   "metadata": {
    "id": "ddfe4827"
   },
   "outputs": [],
   "source": [
    "from sklearn.preprocessing import LabelEncoder"
   ]
  },
  {
   "cell_type": "code",
   "execution_count": null,
   "id": "4879644f",
   "metadata": {
    "id": "4879644f",
    "outputId": "1ba7fc6d-4a0f-4aaa-d259-faa008bebda8"
   },
   "outputs": [
    {
     "data": {
      "text/html": [
       "<div>\n",
       "<style scoped>\n",
       "    .dataframe tbody tr th:only-of-type {\n",
       "        vertical-align: middle;\n",
       "    }\n",
       "\n",
       "    .dataframe tbody tr th {\n",
       "        vertical-align: top;\n",
       "    }\n",
       "\n",
       "    .dataframe thead th {\n",
       "        text-align: right;\n",
       "    }\n",
       "</style>\n",
       "<table border=\"1\" class=\"dataframe\">\n",
       "  <thead>\n",
       "    <tr style=\"text-align: right;\">\n",
       "      <th></th>\n",
       "      <th>Max</th>\n",
       "      <th>Min</th>\n",
       "      <th>Mean</th>\n",
       "      <th>Std</th>\n",
       "      <th>RMS</th>\n",
       "      <th>Skewness</th>\n",
       "      <th>Kurtosis</th>\n",
       "      <th>Crest Factor</th>\n",
       "      <th>Form Factor</th>\n",
       "      <th>Fault</th>\n",
       "    </tr>\n",
       "  </thead>\n",
       "  <tbody>\n",
       "    <tr>\n",
       "      <th>0</th>\n",
       "      <td>87</td>\n",
       "      <td>168</td>\n",
       "      <td>832</td>\n",
       "      <td>1333</td>\n",
       "      <td>1524</td>\n",
       "      <td>1419</td>\n",
       "      <td>2006</td>\n",
       "      <td>1004</td>\n",
       "      <td>1667</td>\n",
       "      <td>1</td>\n",
       "    </tr>\n",
       "    <tr>\n",
       "      <th>1</th>\n",
       "      <td>97</td>\n",
       "      <td>155</td>\n",
       "      <td>384</td>\n",
       "      <td>1334</td>\n",
       "      <td>1560</td>\n",
       "      <td>1069</td>\n",
       "      <td>1978</td>\n",
       "      <td>1028</td>\n",
       "      <td>1694</td>\n",
       "      <td>1</td>\n",
       "    </tr>\n",
       "    <tr>\n",
       "      <th>2</th>\n",
       "      <td>115</td>\n",
       "      <td>176</td>\n",
       "      <td>978</td>\n",
       "      <td>1309</td>\n",
       "      <td>1499</td>\n",
       "      <td>1830</td>\n",
       "      <td>2013</td>\n",
       "      <td>1070</td>\n",
       "      <td>1712</td>\n",
       "      <td>1</td>\n",
       "    </tr>\n",
       "    <tr>\n",
       "      <th>3</th>\n",
       "      <td>70</td>\n",
       "      <td>132</td>\n",
       "      <td>777</td>\n",
       "      <td>1433</td>\n",
       "      <td>1598</td>\n",
       "      <td>237</td>\n",
       "      <td>1964</td>\n",
       "      <td>907</td>\n",
       "      <td>1596</td>\n",
       "      <td>1</td>\n",
       "    </tr>\n",
       "    <tr>\n",
       "      <th>4</th>\n",
       "      <td>129</td>\n",
       "      <td>159</td>\n",
       "      <td>300</td>\n",
       "      <td>1331</td>\n",
       "      <td>1569</td>\n",
       "      <td>1015</td>\n",
       "      <td>2016</td>\n",
       "      <td>1078</td>\n",
       "      <td>1699</td>\n",
       "      <td>1</td>\n",
       "    </tr>\n",
       "    <tr>\n",
       "      <th>...</th>\n",
       "      <td>...</td>\n",
       "      <td>...</td>\n",
       "      <td>...</td>\n",
       "      <td>...</td>\n",
       "      <td>...</td>\n",
       "      <td>...</td>\n",
       "      <td>...</td>\n",
       "      <td>...</td>\n",
       "      <td>...</td>\n",
       "      <td>...</td>\n",
       "    </tr>\n",
       "    <tr>\n",
       "      <th>460</th>\n",
       "      <td>18</td>\n",
       "      <td>224</td>\n",
       "      <td>240</td>\n",
       "      <td>1183</td>\n",
       "      <td>1465</td>\n",
       "      <td>446</td>\n",
       "      <td>686</td>\n",
       "      <td>77</td>\n",
       "      <td>1761</td>\n",
       "      <td>3</td>\n",
       "    </tr>\n",
       "    <tr>\n",
       "      <th>461</th>\n",
       "      <td>48</td>\n",
       "      <td>191</td>\n",
       "      <td>545</td>\n",
       "      <td>1153</td>\n",
       "      <td>1418</td>\n",
       "      <td>1501</td>\n",
       "      <td>1359</td>\n",
       "      <td>720</td>\n",
       "      <td>1773</td>\n",
       "      <td>3</td>\n",
       "    </tr>\n",
       "    <tr>\n",
       "      <th>462</th>\n",
       "      <td>19</td>\n",
       "      <td>191</td>\n",
       "      <td>962</td>\n",
       "      <td>1212</td>\n",
       "      <td>1451</td>\n",
       "      <td>912</td>\n",
       "      <td>774</td>\n",
       "      <td>97</td>\n",
       "      <td>1745</td>\n",
       "      <td>3</td>\n",
       "    </tr>\n",
       "    <tr>\n",
       "      <th>463</th>\n",
       "      <td>44</td>\n",
       "      <td>108</td>\n",
       "      <td>518</td>\n",
       "      <td>1167</td>\n",
       "      <td>1443</td>\n",
       "      <td>1226</td>\n",
       "      <td>1778</td>\n",
       "      <td>638</td>\n",
       "      <td>1764</td>\n",
       "      <td>3</td>\n",
       "    </tr>\n",
       "    <tr>\n",
       "      <th>464</th>\n",
       "      <td>17</td>\n",
       "      <td>204</td>\n",
       "      <td>389</td>\n",
       "      <td>1158</td>\n",
       "      <td>1439</td>\n",
       "      <td>1314</td>\n",
       "      <td>851</td>\n",
       "      <td>74</td>\n",
       "      <td>1774</td>\n",
       "      <td>3</td>\n",
       "    </tr>\n",
       "  </tbody>\n",
       "</table>\n",
       "<p>2278 rows × 10 columns</p>\n",
       "</div>"
      ],
      "text/plain": [
       "     Max  Min  Mean   Std   RMS  Skewness  Kurtosis  Crest Factor  \\\n",
       "0     87  168   832  1333  1524      1419      2006          1004   \n",
       "1     97  155   384  1334  1560      1069      1978          1028   \n",
       "2    115  176   978  1309  1499      1830      2013          1070   \n",
       "3     70  132   777  1433  1598       237      1964           907   \n",
       "4    129  159   300  1331  1569      1015      2016          1078   \n",
       "..   ...  ...   ...   ...   ...       ...       ...           ...   \n",
       "460   18  224   240  1183  1465       446       686            77   \n",
       "461   48  191   545  1153  1418      1501      1359           720   \n",
       "462   19  191   962  1212  1451       912       774            97   \n",
       "463   44  108   518  1167  1443      1226      1778           638   \n",
       "464   17  204   389  1158  1439      1314       851            74   \n",
       "\n",
       "     Form Factor  Fault  \n",
       "0           1667      1  \n",
       "1           1694      1  \n",
       "2           1712      1  \n",
       "3           1596      1  \n",
       "4           1699      1  \n",
       "..           ...    ...  \n",
       "460         1761      3  \n",
       "461         1773      3  \n",
       "462         1745      3  \n",
       "463         1764      3  \n",
       "464         1774      3  \n",
       "\n",
       "[2278 rows x 10 columns]"
      ]
     },
     "execution_count": 69,
     "metadata": {},
     "output_type": "execute_result"
    }
   ],
   "source": [
    "df.apply(LabelEncoder().fit_transform)"
   ]
  },
  {
   "cell_type": "code",
   "execution_count": null,
   "id": "c8e22354",
   "metadata": {
    "id": "c8e22354"
   },
   "outputs": [],
   "source": [
    "#df[\"Fault\"].unique()"
   ]
  },
  {
   "cell_type": "code",
   "execution_count": null,
   "id": "4f5a5484",
   "metadata": {
    "id": "4f5a5484"
   },
   "outputs": [],
   "source": [
    "X = df.iloc[:,:-1]\n"
   ]
  },
  {
   "cell_type": "code",
   "execution_count": null,
   "id": "bdec0242",
   "metadata": {
    "id": "bdec0242",
    "outputId": "636b28dd-0787-4767-c3ea-3d0918a2edb3"
   },
   "outputs": [
    {
     "data": {
      "text/html": [
       "<div>\n",
       "<style scoped>\n",
       "    .dataframe tbody tr th:only-of-type {\n",
       "        vertical-align: middle;\n",
       "    }\n",
       "\n",
       "    .dataframe tbody tr th {\n",
       "        vertical-align: top;\n",
       "    }\n",
       "\n",
       "    .dataframe thead th {\n",
       "        text-align: right;\n",
       "    }\n",
       "</style>\n",
       "<table border=\"1\" class=\"dataframe\">\n",
       "  <thead>\n",
       "    <tr style=\"text-align: right;\">\n",
       "      <th></th>\n",
       "      <th>Max</th>\n",
       "      <th>Min</th>\n",
       "      <th>Mean</th>\n",
       "      <th>Std</th>\n",
       "      <th>RMS</th>\n",
       "      <th>Skewness</th>\n",
       "      <th>Kurtosis</th>\n",
       "      <th>Crest Factor</th>\n",
       "      <th>Form Factor</th>\n",
       "    </tr>\n",
       "  </thead>\n",
       "  <tbody>\n",
       "    <tr>\n",
       "      <th>0</th>\n",
       "      <td>0.398</td>\n",
       "      <td>-0.625</td>\n",
       "      <td>-0.117085</td>\n",
       "      <td>0.093069</td>\n",
       "      <td>0.149567</td>\n",
       "      <td>-0.012753</td>\n",
       "      <td>0.931376</td>\n",
       "      <td>2.661008</td>\n",
       "      <td>-1.277421</td>\n",
       "    </tr>\n",
       "    <tr>\n",
       "      <th>1</th>\n",
       "      <td>0.422</td>\n",
       "      <td>-0.657</td>\n",
       "      <td>-0.117744</td>\n",
       "      <td>0.093095</td>\n",
       "      <td>0.150100</td>\n",
       "      <td>-0.033307</td>\n",
       "      <td>0.876667</td>\n",
       "      <td>2.811460</td>\n",
       "      <td>-1.274798</td>\n",
       "    </tr>\n",
       "    <tr>\n",
       "      <th>2</th>\n",
       "      <td>0.466</td>\n",
       "      <td>-0.605</td>\n",
       "      <td>-0.116695</td>\n",
       "      <td>0.091405</td>\n",
       "      <td>0.148230</td>\n",
       "      <td>0.022064</td>\n",
       "      <td>0.946745</td>\n",
       "      <td>3.143757</td>\n",
       "      <td>-1.270240</td>\n",
       "    </tr>\n",
       "    <tr>\n",
       "      <th>3</th>\n",
       "      <td>0.356</td>\n",
       "      <td>-0.713</td>\n",
       "      <td>-0.117174</td>\n",
       "      <td>0.094340</td>\n",
       "      <td>0.150430</td>\n",
       "      <td>-0.088984</td>\n",
       "      <td>0.858388</td>\n",
       "      <td>2.366546</td>\n",
       "      <td>-1.283821</td>\n",
       "    </tr>\n",
       "    <tr>\n",
       "      <th>4</th>\n",
       "      <td>0.500</td>\n",
       "      <td>-0.647</td>\n",
       "      <td>-0.117876</td>\n",
       "      <td>0.093033</td>\n",
       "      <td>0.150165</td>\n",
       "      <td>-0.036459</td>\n",
       "      <td>0.957214</td>\n",
       "      <td>3.329671</td>\n",
       "      <td>-1.273921</td>\n",
       "    </tr>\n",
       "    <tr>\n",
       "      <th>...</th>\n",
       "      <td>...</td>\n",
       "      <td>...</td>\n",
       "      <td>...</td>\n",
       "      <td>...</td>\n",
       "      <td>...</td>\n",
       "      <td>...</td>\n",
       "      <td>...</td>\n",
       "      <td>...</td>\n",
       "      <td>...</td>\n",
       "    </tr>\n",
       "    <tr>\n",
       "      <th>460</th>\n",
       "      <td>0.229</td>\n",
       "      <td>-0.488</td>\n",
       "      <td>-0.118015</td>\n",
       "      <td>0.083851</td>\n",
       "      <td>0.144769</td>\n",
       "      <td>-0.067698</td>\n",
       "      <td>0.233650</td>\n",
       "      <td>1.581825</td>\n",
       "      <td>-1.226706</td>\n",
       "    </tr>\n",
       "    <tr>\n",
       "      <th>461</th>\n",
       "      <td>0.303</td>\n",
       "      <td>-0.569</td>\n",
       "      <td>-0.117486</td>\n",
       "      <td>0.082563</td>\n",
       "      <td>0.143595</td>\n",
       "      <td>-0.005831</td>\n",
       "      <td>0.369785</td>\n",
       "      <td>2.110106</td>\n",
       "      <td>-1.222223</td>\n",
       "    </tr>\n",
       "    <tr>\n",
       "      <th>462</th>\n",
       "      <td>0.232</td>\n",
       "      <td>-0.569</td>\n",
       "      <td>-0.116743</td>\n",
       "      <td>0.084937</td>\n",
       "      <td>0.144371</td>\n",
       "      <td>-0.041197</td>\n",
       "      <td>0.247918</td>\n",
       "      <td>1.606971</td>\n",
       "      <td>-1.236654</td>\n",
       "    </tr>\n",
       "    <tr>\n",
       "      <th>463</th>\n",
       "      <td>0.293</td>\n",
       "      <td>-0.771</td>\n",
       "      <td>-0.117529</td>\n",
       "      <td>0.083075</td>\n",
       "      <td>0.143924</td>\n",
       "      <td>-0.024656</td>\n",
       "      <td>0.533415</td>\n",
       "      <td>2.035792</td>\n",
       "      <td>-1.224588</td>\n",
       "    </tr>\n",
       "    <tr>\n",
       "      <th>464</th>\n",
       "      <td>0.227</td>\n",
       "      <td>-0.537</td>\n",
       "      <td>-0.117737</td>\n",
       "      <td>0.082736</td>\n",
       "      <td>0.143899</td>\n",
       "      <td>-0.019219</td>\n",
       "      <td>0.263400</td>\n",
       "      <td>1.577499</td>\n",
       "      <td>-1.222208</td>\n",
       "    </tr>\n",
       "  </tbody>\n",
       "</table>\n",
       "<p>2278 rows × 9 columns</p>\n",
       "</div>"
      ],
      "text/plain": [
       "       Max    Min      Mean       Std       RMS  Skewness  Kurtosis  \\\n",
       "0    0.398 -0.625 -0.117085  0.093069  0.149567 -0.012753  0.931376   \n",
       "1    0.422 -0.657 -0.117744  0.093095  0.150100 -0.033307  0.876667   \n",
       "2    0.466 -0.605 -0.116695  0.091405  0.148230  0.022064  0.946745   \n",
       "3    0.356 -0.713 -0.117174  0.094340  0.150430 -0.088984  0.858388   \n",
       "4    0.500 -0.647 -0.117876  0.093033  0.150165 -0.036459  0.957214   \n",
       "..     ...    ...       ...       ...       ...       ...       ...   \n",
       "460  0.229 -0.488 -0.118015  0.083851  0.144769 -0.067698  0.233650   \n",
       "461  0.303 -0.569 -0.117486  0.082563  0.143595 -0.005831  0.369785   \n",
       "462  0.232 -0.569 -0.116743  0.084937  0.144371 -0.041197  0.247918   \n",
       "463  0.293 -0.771 -0.117529  0.083075  0.143924 -0.024656  0.533415   \n",
       "464  0.227 -0.537 -0.117737  0.082736  0.143899 -0.019219  0.263400   \n",
       "\n",
       "     Crest Factor  Form Factor  \n",
       "0        2.661008    -1.277421  \n",
       "1        2.811460    -1.274798  \n",
       "2        3.143757    -1.270240  \n",
       "3        2.366546    -1.283821  \n",
       "4        3.329671    -1.273921  \n",
       "..            ...          ...  \n",
       "460      1.581825    -1.226706  \n",
       "461      2.110106    -1.222223  \n",
       "462      1.606971    -1.236654  \n",
       "463      2.035792    -1.224588  \n",
       "464      1.577499    -1.222208  \n",
       "\n",
       "[2278 rows x 9 columns]"
      ]
     },
     "execution_count": 72,
     "metadata": {},
     "output_type": "execute_result"
    }
   ],
   "source": [
    "X"
   ]
  },
  {
   "cell_type": "code",
   "execution_count": null,
   "id": "2309a74f",
   "metadata": {
    "id": "2309a74f"
   },
   "outputs": [],
   "source": [
    "y = df[\"Fault\"]"
   ]
  },
  {
   "cell_type": "code",
   "execution_count": null,
   "id": "b08c268a",
   "metadata": {
    "id": "b08c268a",
    "outputId": "fca40bef-41a3-4580-cb72-d2f11f807bbe"
   },
   "outputs": [
    {
     "data": {
      "text/plain": [
       "0              Normal\n",
       "1              Normal\n",
       "2              Normal\n",
       "3              Normal\n",
       "4              Normal\n",
       "            ...      \n",
       "460    Roller Element\n",
       "461    Roller Element\n",
       "462    Roller Element\n",
       "463    Roller Element\n",
       "464    Roller Element\n",
       "Name: Fault, Length: 2278, dtype: object"
      ]
     },
     "execution_count": 74,
     "metadata": {},
     "output_type": "execute_result"
    }
   ],
   "source": [
    "y"
   ]
  },
  {
   "cell_type": "markdown",
   "id": "da413f6d",
   "metadata": {
    "id": "da413f6d"
   },
   "source": [
    "### Split Train - Test Data"
   ]
  },
  {
   "cell_type": "code",
   "execution_count": null,
   "id": "7847ba56",
   "metadata": {
    "id": "7847ba56"
   },
   "outputs": [],
   "source": [
    "from sklearn.model_selection import train_test_split"
   ]
  },
  {
   "cell_type": "code",
   "execution_count": null,
   "id": "ca90d678",
   "metadata": {
    "id": "ca90d678"
   },
   "outputs": [],
   "source": [
    "X_train, X_test, y_train, y_test = train_test_split(X, y, test_size=0.30, random_state=42)"
   ]
  },
  {
   "cell_type": "code",
   "execution_count": null,
   "id": "800572a2",
   "metadata": {
    "id": "800572a2",
    "outputId": "8724c55d-fd0f-4641-d892-0262fcb2dc24"
   },
   "outputs": [
    {
     "data": {
      "text/plain": [
       "(1594, 9)"
      ]
     },
     "execution_count": 77,
     "metadata": {},
     "output_type": "execute_result"
    }
   ],
   "source": [
    "X_train.shape"
   ]
  },
  {
   "cell_type": "code",
   "execution_count": null,
   "id": "85754d58",
   "metadata": {
    "id": "85754d58",
    "outputId": "21f926c7-1ea1-4c8e-cc6b-f0a9785645c4"
   },
   "outputs": [
    {
     "data": {
      "text/plain": [
       "(684, 9)"
      ]
     },
     "execution_count": 78,
     "metadata": {},
     "output_type": "execute_result"
    }
   ],
   "source": [
    "X_test.shape"
   ]
  },
  {
   "cell_type": "code",
   "execution_count": null,
   "id": "c02b472e",
   "metadata": {
    "id": "c02b472e",
    "outputId": "16f31ddc-7706-4edf-eefa-21b58f6e2009"
   },
   "outputs": [
    {
     "data": {
      "text/plain": [
       "(1594,)"
      ]
     },
     "execution_count": 79,
     "metadata": {},
     "output_type": "execute_result"
    }
   ],
   "source": [
    "y_train.shape"
   ]
  },
  {
   "cell_type": "code",
   "execution_count": null,
   "id": "d89f9e9e",
   "metadata": {
    "id": "d89f9e9e",
    "outputId": "51a83db3-cfb1-487e-f228-c03c9fa2b339"
   },
   "outputs": [
    {
     "data": {
      "text/plain": [
       "(684,)"
      ]
     },
     "execution_count": 80,
     "metadata": {},
     "output_type": "execute_result"
    }
   ],
   "source": [
    "y_test.shape"
   ]
  },
  {
   "cell_type": "markdown",
   "id": "5f8ba4ca",
   "metadata": {
    "id": "5f8ba4ca"
   },
   "source": [
    "### Model Training & Classification"
   ]
  },
  {
   "cell_type": "code",
   "execution_count": null,
   "id": "c01fadda",
   "metadata": {
    "id": "c01fadda"
   },
   "outputs": [],
   "source": [
    "from sklearn.neural_network import MLPClassifier\n",
    "from sklearn.neighbors import KNeighborsClassifier\n",
    "from sklearn.svm import SVC\n",
    "from sklearn.gaussian_process import GaussianProcessClassifier\n",
    "from sklearn.gaussian_process.kernels import RBF\n",
    "from sklearn.tree import DecisionTreeClassifier\n",
    "from sklearn.ensemble import RandomForestClassifier, AdaBoostClassifier\n",
    "from sklearn.naive_bayes import GaussianNB\n",
    "from sklearn.discriminant_analysis import QuadraticDiscriminantAnalysis\n",
    "import plotly.express as px\n",
    "import plotly.graph_objects as go\n",
    "import catboost as cb\n",
    "import lightgbm as lgbm\n",
    "from sklearn.metrics import precision_score,precision_recall_fscore_support\n",
    "from sklearn.metrics import recall_score\n",
    "from sklearn.metrics import f1_score\n",
    "from sklearn.linear_model import LogisticRegression\n",
    "from sklearn.metrics import accuracy_score\n",
    "from sklearn.metrics import confusion_matrix, ConfusionMatrixDisplay"
   ]
  },
  {
   "cell_type": "markdown",
   "id": "48da03fc",
   "metadata": {
    "id": "48da03fc"
   },
   "source": [
    "### 1.LOGISTIC REGRESSION"
   ]
  },
  {
   "cell_type": "code",
   "execution_count": null,
   "id": "4bca4d9a",
   "metadata": {
    "id": "4bca4d9a"
   },
   "outputs": [],
   "source": [
    "logistic_model = LogisticRegression()"
   ]
  },
  {
   "cell_type": "code",
   "execution_count": null,
   "id": "5b643672",
   "metadata": {
    "id": "5b643672",
    "outputId": "c3920523-28a2-4d4e-d977-41c50a668f9e"
   },
   "outputs": [
    {
     "name": "stderr",
     "output_type": "stream",
     "text": [
      "C:\\Users\\N Sai Dhanush\\Anaconda3\\lib\\site-packages\\sklearn\\linear_model\\_logistic.py:814: ConvergenceWarning: lbfgs failed to converge (status=1):\n",
      "STOP: TOTAL NO. of ITERATIONS REACHED LIMIT.\n",
      "\n",
      "Increase the number of iterations (max_iter) or scale the data as shown in:\n",
      "    https://scikit-learn.org/stable/modules/preprocessing.html\n",
      "Please also refer to the documentation for alternative solver options:\n",
      "    https://scikit-learn.org/stable/modules/linear_model.html#logistic-regression\n",
      "  n_iter_i = _check_optimize_result(\n"
     ]
    },
    {
     "data": {
      "text/plain": [
       "LogisticRegression()"
      ]
     },
     "execution_count": 83,
     "metadata": {},
     "output_type": "execute_result"
    }
   ],
   "source": [
    "logistic_model.fit(X_train, y_train)"
   ]
  },
  {
   "cell_type": "code",
   "execution_count": null,
   "id": "aeb21ae0",
   "metadata": {
    "id": "aeb21ae0"
   },
   "outputs": [],
   "source": [
    "y_pred1 = logistic_model.predict(X_test)"
   ]
  },
  {
   "cell_type": "code",
   "execution_count": null,
   "id": "865e0a3c",
   "metadata": {
    "id": "865e0a3c",
    "outputId": "39082d78-14dd-4505-a977-6269e83d10a6",
    "scrolled": true
   },
   "outputs": [
    {
     "data": {
      "text/plain": [
       "array(['Normal', 'Normal', 'Normal', 'Inner Race', 'Roller Element',\n",
       "       'Inner Race', 'Normal', 'Normal', 'Outer Race', 'Inner Race',\n",
       "       'Outer Race', 'Outer Race', 'Outer Race', 'Inner Race',\n",
       "       'Outer Race', 'Outer Race', 'Inner Race', 'Outer Race', 'Normal',\n",
       "       'Roller Element', 'Normal', 'Normal', 'Roller Element',\n",
       "       'Roller Element', 'Inner Race', 'Inner Race', 'Roller Element',\n",
       "       'Outer Race', 'Roller Element', 'Outer Race', 'Roller Element',\n",
       "       'Inner Race', 'Inner Race', 'Inner Race', 'Outer Race', 'Normal',\n",
       "       'Normal', 'Inner Race', 'Normal', 'Outer Race', 'Roller Element',\n",
       "       'Normal', 'Inner Race', 'Roller Element', 'Outer Race', 'Normal',\n",
       "       'Normal', 'Normal', 'Roller Element', 'Inner Race', 'Normal',\n",
       "       'Normal', 'Inner Race', 'Normal', 'Normal', 'Inner Race',\n",
       "       'Outer Race', 'Inner Race', 'Roller Element', 'Outer Race',\n",
       "       'Normal', 'Inner Race', 'Normal', 'Roller Element',\n",
       "       'Roller Element', 'Roller Element', 'Inner Race', 'Roller Element',\n",
       "       'Inner Race', 'Normal', 'Roller Element', 'Outer Race', 'Normal',\n",
       "       'Normal', 'Normal', 'Inner Race', 'Roller Element', 'Inner Race',\n",
       "       'Normal', 'Inner Race', 'Inner Race', 'Outer Race',\n",
       "       'Roller Element', 'Outer Race', 'Normal', 'Normal', 'Inner Race',\n",
       "       'Normal', 'Outer Race', 'Normal', 'Outer Race', 'Roller Element',\n",
       "       'Roller Element', 'Roller Element', 'Normal', 'Outer Race',\n",
       "       'Roller Element', 'Normal', 'Inner Race', 'Normal', 'Inner Race',\n",
       "       'Inner Race', 'Outer Race', 'Inner Race', 'Normal', 'Normal',\n",
       "       'Normal', 'Inner Race', 'Outer Race', 'Normal', 'Roller Element',\n",
       "       'Normal', 'Outer Race', 'Outer Race', 'Normal', 'Roller Element',\n",
       "       'Inner Race', 'Inner Race', 'Normal', 'Normal', 'Normal',\n",
       "       'Inner Race', 'Inner Race', 'Normal', 'Normal', 'Inner Race',\n",
       "       'Normal', 'Roller Element', 'Roller Element', 'Roller Element',\n",
       "       'Normal', 'Normal', 'Roller Element', 'Roller Element', 'Normal',\n",
       "       'Inner Race', 'Normal', 'Inner Race', 'Normal', 'Outer Race',\n",
       "       'Roller Element', 'Roller Element', 'Normal', 'Inner Race',\n",
       "       'Roller Element', 'Inner Race', 'Inner Race', 'Inner Race',\n",
       "       'Normal', 'Inner Race', 'Normal', 'Normal', 'Normal', 'Normal',\n",
       "       'Normal', 'Normal', 'Normal', 'Normal', 'Normal', 'Roller Element',\n",
       "       'Normal', 'Inner Race', 'Inner Race', 'Normal', 'Inner Race',\n",
       "       'Inner Race', 'Normal', 'Outer Race', 'Normal', 'Inner Race',\n",
       "       'Normal', 'Inner Race', 'Outer Race', 'Normal', 'Normal',\n",
       "       'Roller Element', 'Normal', 'Normal', 'Roller Element', 'Normal',\n",
       "       'Normal', 'Inner Race', 'Normal', 'Outer Race', 'Normal',\n",
       "       'Roller Element', 'Normal', 'Normal', 'Normal', 'Inner Race',\n",
       "       'Roller Element', 'Normal', 'Normal', 'Normal', 'Inner Race',\n",
       "       'Roller Element', 'Outer Race', 'Outer Race', 'Outer Race',\n",
       "       'Inner Race', 'Normal', 'Normal', 'Roller Element', 'Normal',\n",
       "       'Inner Race', 'Normal', 'Outer Race', 'Inner Race',\n",
       "       'Roller Element', 'Normal', 'Inner Race', 'Outer Race',\n",
       "       'Outer Race', 'Outer Race', 'Roller Element', 'Normal',\n",
       "       'Inner Race', 'Roller Element', 'Normal', 'Inner Race',\n",
       "       'Outer Race', 'Outer Race', 'Roller Element', 'Roller Element',\n",
       "       'Normal', 'Normal', 'Normal', 'Normal', 'Normal', 'Normal',\n",
       "       'Inner Race', 'Inner Race', 'Roller Element', 'Outer Race',\n",
       "       'Inner Race', 'Roller Element', 'Inner Race', 'Normal', 'Normal',\n",
       "       'Normal', 'Roller Element', 'Outer Race', 'Inner Race',\n",
       "       'Inner Race', 'Outer Race', 'Outer Race', 'Normal', 'Outer Race',\n",
       "       'Inner Race', 'Outer Race', 'Normal', 'Roller Element',\n",
       "       'Roller Element', 'Normal', 'Normal', 'Roller Element', 'Normal',\n",
       "       'Inner Race', 'Normal', 'Normal', 'Outer Race', 'Outer Race',\n",
       "       'Inner Race', 'Roller Element', 'Outer Race', 'Inner Race',\n",
       "       'Normal', 'Outer Race', 'Outer Race', 'Outer Race', 'Inner Race',\n",
       "       'Inner Race', 'Inner Race', 'Roller Element', 'Normal',\n",
       "       'Outer Race', 'Inner Race', 'Roller Element', 'Roller Element',\n",
       "       'Outer Race', 'Roller Element', 'Normal', 'Roller Element',\n",
       "       'Inner Race', 'Normal', 'Roller Element', 'Normal', 'Outer Race',\n",
       "       'Inner Race', 'Roller Element', 'Outer Race', 'Outer Race',\n",
       "       'Inner Race', 'Outer Race', 'Inner Race', 'Normal', 'Inner Race',\n",
       "       'Outer Race', 'Inner Race', 'Outer Race', 'Normal', 'Outer Race',\n",
       "       'Inner Race', 'Roller Element', 'Inner Race', 'Roller Element',\n",
       "       'Outer Race', 'Inner Race', 'Roller Element', 'Outer Race',\n",
       "       'Outer Race', 'Outer Race', 'Normal', 'Normal', 'Roller Element',\n",
       "       'Normal', 'Normal', 'Inner Race', 'Roller Element', 'Outer Race',\n",
       "       'Outer Race', 'Inner Race', 'Outer Race', 'Outer Race',\n",
       "       'Roller Element', 'Normal', 'Inner Race', 'Roller Element',\n",
       "       'Inner Race', 'Normal', 'Normal', 'Outer Race', 'Outer Race',\n",
       "       'Normal', 'Roller Element', 'Inner Race', 'Outer Race',\n",
       "       'Outer Race', 'Normal', 'Roller Element', 'Normal', 'Inner Race',\n",
       "       'Normal', 'Normal', 'Normal', 'Normal', 'Outer Race', 'Normal',\n",
       "       'Normal', 'Outer Race', 'Normal', 'Inner Race', 'Inner Race',\n",
       "       'Normal', 'Inner Race', 'Normal', 'Normal', 'Inner Race', 'Normal',\n",
       "       'Normal', 'Outer Race', 'Inner Race', 'Roller Element', 'Normal',\n",
       "       'Normal', 'Roller Element', 'Normal', 'Outer Race', 'Normal',\n",
       "       'Roller Element', 'Normal', 'Normal', 'Inner Race', 'Inner Race',\n",
       "       'Outer Race', 'Roller Element', 'Normal', 'Roller Element',\n",
       "       'Inner Race', 'Roller Element', 'Normal', 'Roller Element',\n",
       "       'Inner Race', 'Normal', 'Inner Race', 'Normal', 'Inner Race',\n",
       "       'Outer Race', 'Normal', 'Normal', 'Roller Element', 'Inner Race',\n",
       "       'Inner Race', 'Normal', 'Normal', 'Outer Race', 'Normal', 'Normal',\n",
       "       'Outer Race', 'Normal', 'Normal', 'Roller Element', 'Outer Race',\n",
       "       'Outer Race', 'Normal', 'Normal', 'Normal', 'Outer Race',\n",
       "       'Outer Race', 'Normal', 'Inner Race', 'Normal', 'Outer Race',\n",
       "       'Roller Element', 'Normal', 'Outer Race', 'Roller Element',\n",
       "       'Roller Element', 'Normal', 'Normal', 'Normal', 'Outer Race',\n",
       "       'Roller Element', 'Normal', 'Inner Race', 'Outer Race', 'Normal',\n",
       "       'Normal', 'Normal', 'Normal', 'Roller Element', 'Roller Element',\n",
       "       'Normal', 'Normal', 'Roller Element', 'Roller Element',\n",
       "       'Outer Race', 'Normal', 'Outer Race', 'Normal', 'Normal', 'Normal',\n",
       "       'Normal', 'Outer Race', 'Inner Race', 'Roller Element',\n",
       "       'Roller Element', 'Inner Race', 'Normal', 'Normal',\n",
       "       'Roller Element', 'Normal', 'Roller Element', 'Normal', 'Normal',\n",
       "       'Outer Race', 'Roller Element', 'Roller Element', 'Inner Race',\n",
       "       'Roller Element', 'Inner Race', 'Roller Element', 'Normal',\n",
       "       'Normal', 'Normal', 'Normal', 'Roller Element', 'Normal', 'Normal',\n",
       "       'Inner Race', 'Outer Race', 'Inner Race', 'Roller Element',\n",
       "       'Outer Race', 'Inner Race', 'Roller Element', 'Inner Race',\n",
       "       'Roller Element', 'Outer Race', 'Roller Element', 'Inner Race',\n",
       "       'Normal', 'Normal', 'Outer Race', 'Inner Race', 'Normal', 'Normal',\n",
       "       'Outer Race', 'Roller Element', 'Inner Race', 'Outer Race',\n",
       "       'Outer Race', 'Normal', 'Normal', 'Outer Race', 'Roller Element',\n",
       "       'Inner Race', 'Normal', 'Inner Race', 'Roller Element', 'Normal',\n",
       "       'Roller Element', 'Roller Element', 'Outer Race', 'Inner Race',\n",
       "       'Normal', 'Inner Race', 'Normal', 'Normal', 'Inner Race',\n",
       "       'Roller Element', 'Roller Element', 'Roller Element', 'Outer Race',\n",
       "       'Normal', 'Outer Race', 'Roller Element', 'Normal', 'Inner Race',\n",
       "       'Inner Race', 'Outer Race', 'Inner Race', 'Normal', 'Normal',\n",
       "       'Roller Element', 'Inner Race', 'Outer Race', 'Roller Element',\n",
       "       'Inner Race', 'Normal', 'Outer Race', 'Outer Race', 'Normal',\n",
       "       'Outer Race', 'Normal', 'Inner Race', 'Inner Race', 'Normal',\n",
       "       'Roller Element', 'Inner Race', 'Normal', 'Outer Race', 'Normal',\n",
       "       'Normal', 'Inner Race', 'Normal', 'Normal', 'Outer Race',\n",
       "       'Inner Race', 'Normal', 'Outer Race', 'Roller Element', 'Normal',\n",
       "       'Outer Race', 'Normal', 'Roller Element', 'Inner Race',\n",
       "       'Roller Element', 'Outer Race', 'Inner Race', 'Roller Element',\n",
       "       'Normal', 'Normal', 'Normal', 'Normal', 'Inner Race', 'Normal',\n",
       "       'Inner Race', 'Roller Element', 'Inner Race', 'Normal',\n",
       "       'Roller Element', 'Roller Element', 'Outer Race', 'Inner Race',\n",
       "       'Roller Element', 'Roller Element', 'Outer Race', 'Outer Race',\n",
       "       'Roller Element', 'Inner Race', 'Normal', 'Normal', 'Normal',\n",
       "       'Roller Element', 'Normal', 'Roller Element', 'Normal',\n",
       "       'Outer Race', 'Normal', 'Outer Race', 'Normal', 'Outer Race',\n",
       "       'Roller Element', 'Inner Race', 'Roller Element', 'Normal',\n",
       "       'Inner Race', 'Normal', 'Roller Element', 'Normal', 'Inner Race',\n",
       "       'Normal', 'Outer Race', 'Roller Element', 'Inner Race',\n",
       "       'Outer Race', 'Outer Race', 'Normal', 'Normal', 'Normal', 'Normal',\n",
       "       'Normal', 'Inner Race', 'Outer Race', 'Outer Race', 'Outer Race',\n",
       "       'Normal', 'Normal', 'Outer Race', 'Roller Element', 'Inner Race',\n",
       "       'Outer Race', 'Outer Race', 'Normal', 'Roller Element',\n",
       "       'Inner Race', 'Normal', 'Roller Element', 'Normal', 'Inner Race',\n",
       "       'Outer Race', 'Normal', 'Roller Element', 'Normal', 'Normal',\n",
       "       'Normal', 'Roller Element', 'Normal', 'Normal', 'Outer Race',\n",
       "       'Inner Race', 'Normal', 'Inner Race', 'Roller Element',\n",
       "       'Outer Race', 'Normal', 'Normal', 'Normal', 'Roller Element',\n",
       "       'Normal', 'Inner Race', 'Normal', 'Inner Race', 'Roller Element',\n",
       "       'Inner Race', 'Normal', 'Normal', 'Normal', 'Outer Race', 'Normal',\n",
       "       'Outer Race', 'Normal', 'Normal', 'Roller Element',\n",
       "       'Roller Element', 'Outer Race', 'Roller Element', 'Normal',\n",
       "       'Roller Element', 'Inner Race', 'Normal', 'Normal',\n",
       "       'Roller Element', 'Normal', 'Normal', 'Roller Element',\n",
       "       'Outer Race', 'Roller Element', 'Roller Element', 'Inner Race',\n",
       "       'Inner Race', 'Normal', 'Inner Race'], dtype=object)"
      ]
     },
     "execution_count": 85,
     "metadata": {},
     "output_type": "execute_result"
    }
   ],
   "source": [
    "y_pred1"
   ]
  },
  {
   "cell_type": "code",
   "execution_count": null,
   "id": "17b9cea5",
   "metadata": {
    "id": "17b9cea5"
   },
   "outputs": [],
   "source": [
    "accuracy1 = accuracy_score(y_test,y_pred1)"
   ]
  },
  {
   "cell_type": "code",
   "execution_count": null,
   "id": "53b271cc",
   "metadata": {
    "id": "53b271cc",
    "outputId": "592caf2f-d698-491f-e98c-d55641aec3bc"
   },
   "outputs": [
    {
     "data": {
      "text/plain": [
       "0.8260233918128655"
      ]
     },
     "execution_count": 87,
     "metadata": {},
     "output_type": "execute_result"
    }
   ],
   "source": [
    "accuracy1"
   ]
  },
  {
   "cell_type": "code",
   "execution_count": null,
   "id": "33761b95",
   "metadata": {
    "id": "33761b95",
    "outputId": "4cafbe33-c7d6-48bf-8a68-6fc21fe6c6cd"
   },
   "outputs": [
    {
     "name": "stdout",
     "output_type": "stream",
     "text": [
      "0.8296049333860969\n"
     ]
    }
   ],
   "source": [
    "print(precision_score(y_test,y_pred1,average='weighted'))"
   ]
  },
  {
   "cell_type": "code",
   "execution_count": null,
   "id": "33318410",
   "metadata": {
    "id": "33318410",
    "outputId": "72fe2e9a-2f35-4103-e573-f65ac3db5c4c"
   },
   "outputs": [
    {
     "name": "stdout",
     "output_type": "stream",
     "text": [
      "0.8260233918128655\n"
     ]
    }
   ],
   "source": [
    "print(recall_score(y_test,y_pred1,average='weighted'))"
   ]
  },
  {
   "cell_type": "code",
   "execution_count": null,
   "id": "76986151",
   "metadata": {
    "id": "76986151",
    "outputId": "b64ffecf-b979-4f72-83ad-f130227f4dc2"
   },
   "outputs": [
    {
     "name": "stdout",
     "output_type": "stream",
     "text": [
      "0.8245676874020028\n"
     ]
    }
   ],
   "source": [
    "print(f1_score(y_test,y_pred1,average='weighted'))"
   ]
  },
  {
   "cell_type": "code",
   "execution_count": null,
   "id": "4f4d0390",
   "metadata": {
    "id": "4f4d0390"
   },
   "outputs": [],
   "source": [
    "cm1 = confusion_matrix(y_test, y_pred1)"
   ]
  },
  {
   "cell_type": "code",
   "execution_count": null,
   "id": "dd717d43",
   "metadata": {
    "id": "dd717d43",
    "outputId": "0cf9e190-1b81-4629-d46e-837fc61f1f14"
   },
   "outputs": [
    {
     "data": {
      "text/plain": [
       "array([[119,   0,   0,  10],\n",
       "       [ 15, 208,  17,   9],\n",
       "       [  0,  49, 116,   0],\n",
       "       [ 16,   3,   0, 122]], dtype=int64)"
      ]
     },
     "execution_count": 92,
     "metadata": {},
     "output_type": "execute_result"
    }
   ],
   "source": [
    "cm1"
   ]
  },
  {
   "cell_type": "code",
   "execution_count": null,
   "id": "d1517e8f",
   "metadata": {
    "id": "d1517e8f"
   },
   "outputs": [],
   "source": [
    "disp = ConfusionMatrixDisplay(confusion_matrix=cm1)"
   ]
  },
  {
   "cell_type": "code",
   "execution_count": null,
   "id": "fcb7f2f8",
   "metadata": {
    "id": "fcb7f2f8",
    "outputId": "c3f7bdd6-2f98-4f17-9bf5-3b9fde1d8c06"
   },
   "outputs": [
    {
     "data": {
      "image/png": "[encoded data removed]",
      "text/plain": [
       "<Figure size 432x288 with 2 Axes>"
      ]
     },
     "metadata": {
      "needs_background": "light"
     },
     "output_type": "display_data"
    }
   ],
   "source": [
    "disp.plot()\n",
    "plt.show()"
   ]
  },
  {
   "cell_type": "code",
   "execution_count": null,
   "id": "646cf033",
   "metadata": {
    "id": "646cf033",
    "outputId": "407d920d-d7b7-4522-c013-7d54347ab129"
   },
   "outputs": [
    {
     "name": "stdout",
     "output_type": "stream",
     "text": [
      "\n",
      "Classification Report\n",
      "\n",
      "                precision    recall  f1-score   support\n",
      "\n",
      "    Inner Race       0.79      0.92      0.85       129\n",
      "        Normal       0.80      0.84      0.82       249\n",
      "    Outer Race       0.87      0.70      0.78       165\n",
      "Roller Element       0.87      0.87      0.87       141\n",
      "\n",
      "      accuracy                           0.83       684\n",
      "     macro avg       0.83      0.83      0.83       684\n",
      "  weighted avg       0.83      0.83      0.82       684\n",
      "\n"
     ]
    }
   ],
   "source": [
    "from sklearn.metrics import classification_report\n",
    "print('\\nClassification Report\\n')\n",
    "print(classification_report(y_test, y_pred1))"
   ]
  },
  {
   "cell_type": "markdown",
   "id": "6db024a8",
   "metadata": {
    "id": "6db024a8"
   },
   "source": [
    "### 2. Naive Baye's Algorithm"
   ]
  },
  {
   "cell_type": "code",
   "execution_count": null,
   "id": "b9132ba4",
   "metadata": {
    "id": "b9132ba4"
   },
   "outputs": [],
   "source": [
    "from sklearn.naive_bayes import GaussianNB"
   ]
  },
  {
   "cell_type": "code",
   "execution_count": null,
   "id": "c6dd4800",
   "metadata": {
    "id": "c6dd4800"
   },
   "outputs": [],
   "source": [
    "gnb_model = GaussianNB()"
   ]
  },
  {
   "cell_type": "code",
   "execution_count": null,
   "id": "2809bd99",
   "metadata": {
    "id": "2809bd99",
    "outputId": "4c0a5680-690b-4e59-b509-34b13370f8fd"
   },
   "outputs": [
    {
     "data": {
      "text/plain": [
       "GaussianNB()"
      ]
     },
     "execution_count": 104,
     "metadata": {},
     "output_type": "execute_result"
    }
   ],
   "source": [
    "gnb_model.fit(X_train, y_train)"
   ]
  },
  {
   "cell_type": "code",
   "execution_count": null,
   "id": "0ca0e4fb",
   "metadata": {
    "id": "0ca0e4fb"
   },
   "outputs": [],
   "source": [
    "y_pred2 = gnb_model.predict(X_test)"
   ]
  },
  {
   "cell_type": "code",
   "execution_count": null,
   "id": "1f66dd96",
   "metadata": {
    "id": "1f66dd96"
   },
   "outputs": [],
   "source": [
    "#y_pred2"
   ]
  },
  {
   "cell_type": "code",
   "execution_count": null,
   "id": "6920d0e2",
   "metadata": {
    "id": "6920d0e2",
    "outputId": "469620c4-94ae-4efe-8010-22bcdbf9bc54"
   },
   "outputs": [
    {
     "name": "stdout",
     "output_type": "stream",
     "text": [
      "0.8669590643274854\n"
     ]
    }
   ],
   "source": [
    "accuracy2 = accuracy_score(y_test,y_pred2)\n",
    "print(accuracy2)"
   ]
  },
  {
   "cell_type": "code",
   "execution_count": null,
   "id": "88fe12d3",
   "metadata": {
    "id": "88fe12d3",
    "outputId": "2549b59b-16f9-4056-d895-e413bc543fdf"
   },
   "outputs": [
    {
     "name": "stdout",
     "output_type": "stream",
     "text": [
      "0.8752128525266312\n"
     ]
    }
   ],
   "source": [
    "print(precision_score(y_test,y_pred2,average='weighted'))"
   ]
  },
  {
   "cell_type": "code",
   "execution_count": null,
   "id": "23406c00",
   "metadata": {
    "id": "23406c00",
    "outputId": "53c863ef-0c9f-475a-d20c-d0cb4842f466"
   },
   "outputs": [
    {
     "name": "stdout",
     "output_type": "stream",
     "text": [
      "0.8669590643274854\n"
     ]
    }
   ],
   "source": [
    "print(recall_score(y_test,y_pred2,average='weighted'))"
   ]
  },
  {
   "cell_type": "code",
   "execution_count": null,
   "id": "497ae69c",
   "metadata": {
    "id": "497ae69c",
    "outputId": "df5aa98f-fda5-4693-e8ea-3debc4fd8866"
   },
   "outputs": [
    {
     "name": "stdout",
     "output_type": "stream",
     "text": [
      "0.8620666694001269\n"
     ]
    }
   ],
   "source": [
    "print(f1_score(y_test,y_pred2,average='weighted'))"
   ]
  },
  {
   "cell_type": "code",
   "execution_count": null,
   "id": "cf96af77",
   "metadata": {
    "id": "cf96af77",
    "outputId": "ac6527f6-d57a-432a-c22a-97574f748687"
   },
   "outputs": [
    {
     "name": "stdout",
     "output_type": "stream",
     "text": [
      "[[129   0   0   0]\n",
      " [ 16 218   6   9]\n",
      " [  0  60 105   0]\n",
      " [  0   0   0 141]]\n"
     ]
    },
    {
     "data": {
      "image/png": "[encoded data removed]",
      "text/plain": [
       "<Figure size 432x288 with 2 Axes>"
      ]
     },
     "metadata": {
      "needs_background": "light"
     },
     "output_type": "display_data"
    },
    {
     "name": "stdout",
     "output_type": "stream",
     "text": [
      "\n",
      "Classification Report\n",
      "\n",
      "                precision    recall  f1-score   support\n",
      "\n",
      "    Inner Race       0.89      1.00      0.94       129\n",
      "        Normal       0.78      0.88      0.83       249\n",
      "    Outer Race       0.95      0.64      0.76       165\n",
      "Roller Element       0.94      1.00      0.97       141\n",
      "\n",
      "      accuracy                           0.87       684\n",
      "     macro avg       0.89      0.88      0.87       684\n",
      "  weighted avg       0.88      0.87      0.86       684\n",
      "\n"
     ]
    }
   ],
   "source": [
    "cm2 = confusion_matrix(y_test, y_pred2)\n",
    "print(cm2)\n",
    "disp2 = ConfusionMatrixDisplay(confusion_matrix=cm2)\n",
    "disp2.plot()\n",
    "plt.show()\n",
    "print('\\nClassification Report\\n')\n",
    "print(classification_report(y_test, y_pred2))"
   ]
  },
  {
   "cell_type": "markdown",
   "id": "0a7748c7",
   "metadata": {
    "id": "0a7748c7"
   },
   "source": [
    "### 3. K-Nearest Neighbors"
   ]
  },
  {
   "cell_type": "code",
   "execution_count": null,
   "id": "bf0d0061",
   "metadata": {
    "id": "bf0d0061"
   },
   "outputs": [],
   "source": [
    "knn_model = KNeighborsClassifier(n_neighbors=4)"
   ]
  },
  {
   "cell_type": "code",
   "execution_count": null,
   "id": "2459b136",
   "metadata": {
    "id": "2459b136",
    "outputId": "86bb0edf-e98a-4f54-ebe1-6bf0851688f1"
   },
   "outputs": [
    {
     "data": {
      "text/plain": [
       "KNeighborsClassifier(n_neighbors=4)"
      ]
     },
     "execution_count": 124,
     "metadata": {},
     "output_type": "execute_result"
    }
   ],
   "source": [
    "knn_model.fit(X_train, y_train)"
   ]
  },
  {
   "cell_type": "code",
   "execution_count": null,
   "id": "16c09644",
   "metadata": {
    "id": "16c09644"
   },
   "outputs": [],
   "source": [
    "y_pred3 = knn_model.predict(X_test)"
   ]
  },
  {
   "cell_type": "code",
   "execution_count": null,
   "id": "41849836",
   "metadata": {
    "id": "41849836"
   },
   "outputs": [],
   "source": [
    "#y_pred3"
   ]
  },
  {
   "cell_type": "code",
   "execution_count": null,
   "id": "f76e9d94",
   "metadata": {
    "id": "f76e9d94",
    "outputId": "134c5b05-705c-4ce2-c0ff-da0fe85295cd"
   },
   "outputs": [
    {
     "name": "stdout",
     "output_type": "stream",
     "text": [
      "0.8362573099415205\n"
     ]
    }
   ],
   "source": [
    "accuracy3 = accuracy_score(y_test,y_pred3)\n",
    "print(accuracy3)"
   ]
  },
  {
   "cell_type": "code",
   "execution_count": null,
   "id": "017c51ef",
   "metadata": {
    "id": "017c51ef",
    "outputId": "c497e105-cb15-4af7-8e1e-11b73bb5afcc"
   },
   "outputs": [
    {
     "name": "stdout",
     "output_type": "stream",
     "text": [
      "0.8348619021513224\n"
     ]
    }
   ],
   "source": [
    "print(precision_score(y_test,y_pred3,average='weighted'))"
   ]
  },
  {
   "cell_type": "code",
   "execution_count": null,
   "id": "fb958293",
   "metadata": {
    "id": "fb958293",
    "outputId": "26f6f9b6-d7d7-4059-e550-b1e6163d2228"
   },
   "outputs": [
    {
     "name": "stdout",
     "output_type": "stream",
     "text": [
      "0.8362573099415205\n"
     ]
    }
   ],
   "source": [
    "print(recall_score(y_test,y_pred3,average='weighted'))"
   ]
  },
  {
   "cell_type": "code",
   "execution_count": null,
   "id": "3b2b1df2",
   "metadata": {
    "id": "3b2b1df2",
    "outputId": "7caa962d-afa1-404b-d689-0baeaca18512"
   },
   "outputs": [
    {
     "name": "stdout",
     "output_type": "stream",
     "text": [
      "0.8342901747569431\n"
     ]
    }
   ],
   "source": [
    "print(f1_score(y_test,y_pred3,average='weighted'))"
   ]
  },
  {
   "cell_type": "code",
   "execution_count": null,
   "id": "91c4473a",
   "metadata": {
    "id": "91c4473a",
    "outputId": "bb0a3e63-f573-4cf9-bafa-07deb806bc8c"
   },
   "outputs": [
    {
     "name": "stdout",
     "output_type": "stream",
     "text": [
      "[[127   0   0   2]\n",
      " [ 14 198  28   9]\n",
      " [  0  48 117   0]\n",
      " [  2   9   0 130]]\n"
     ]
    },
    {
     "data": {
      "image/png": "[encoded data removed]",
      "text/plain": [
       "<Figure size 432x288 with 2 Axes>"
      ]
     },
     "metadata": {
      "needs_background": "light"
     },
     "output_type": "display_data"
    },
    {
     "name": "stdout",
     "output_type": "stream",
     "text": [
      "\n",
      "Classification Report\n",
      "\n",
      "                precision    recall  f1-score   support\n",
      "\n",
      "    Inner Race       0.89      0.98      0.93       129\n",
      "        Normal       0.78      0.80      0.79       249\n",
      "    Outer Race       0.81      0.71      0.75       165\n",
      "Roller Element       0.92      0.92      0.92       141\n",
      "\n",
      "      accuracy                           0.84       684\n",
      "     macro avg       0.85      0.85      0.85       684\n",
      "  weighted avg       0.83      0.84      0.83       684\n",
      "\n"
     ]
    }
   ],
   "source": [
    "cm3 = confusion_matrix(y_test, y_pred3)\n",
    "print(cm3)\n",
    "disp3 = ConfusionMatrixDisplay(confusion_matrix=cm3)\n",
    "disp3.plot()\n",
    "plt.show()\n",
    "print('\\nClassification Report\\n')\n",
    "print(classification_report(y_test, y_pred3))"
   ]
  },
  {
   "cell_type": "markdown",
   "id": "0c65e199",
   "metadata": {
    "id": "0c65e199"
   },
   "source": [
    "### 4.Decision Tree"
   ]
  },
  {
   "cell_type": "code",
   "execution_count": null,
   "id": "657952b5",
   "metadata": {
    "id": "657952b5"
   },
   "outputs": [],
   "source": [
    "dtree_model = DecisionTreeClassifier(criterion='gini',\n",
    "    splitter='best',\n",
    "    max_depth=3,\n",
    "    min_samples_split=2,\n",
    "    min_samples_leaf=1,\n",
    "    min_weight_fraction_leaf=0.0,\n",
    "    max_features=None,\n",
    "    random_state=None,\n",
    "    max_leaf_nodes=None,\n",
    "    min_impurity_decrease=0.0)"
   ]
  },
  {
   "cell_type": "code",
   "execution_count": null,
   "id": "d5b9a49d",
   "metadata": {
    "id": "d5b9a49d",
    "outputId": "527af3e5-51ff-4f17-b3d4-cc09e59efb42"
   },
   "outputs": [
    {
     "data": {
      "text/plain": [
       "DecisionTreeClassifier(max_depth=3)"
      ]
     },
     "execution_count": 165,
     "metadata": {},
     "output_type": "execute_result"
    }
   ],
   "source": [
    "dtree_model.fit(X_train, y_train)"
   ]
  },
  {
   "cell_type": "code",
   "execution_count": null,
   "id": "9ade7677",
   "metadata": {
    "id": "9ade7677"
   },
   "outputs": [],
   "source": [
    "y_pred4 = dtree_model.predict(X_test)"
   ]
  },
  {
   "cell_type": "code",
   "execution_count": null,
   "id": "4e730697",
   "metadata": {
    "id": "4e730697"
   },
   "outputs": [],
   "source": [
    "#y_pred4"
   ]
  },
  {
   "cell_type": "code",
   "execution_count": null,
   "id": "544e084e",
   "metadata": {
    "id": "544e084e",
    "outputId": "087b36bc-6e6c-4207-eb9b-3ecce1d14550"
   },
   "outputs": [
    {
     "name": "stdout",
     "output_type": "stream",
     "text": [
      "0.9049707602339181\n"
     ]
    }
   ],
   "source": [
    "accuracy4 = accuracy_score(y_test,y_pred4)\n",
    "print(accuracy4)"
   ]
  },
  {
   "cell_type": "code",
   "execution_count": null,
   "id": "ac305e44",
   "metadata": {
    "id": "ac305e44",
    "outputId": "a3b1edaf-d7d9-4e9e-9571-1c3b6abe5390"
   },
   "outputs": [
    {
     "name": "stdout",
     "output_type": "stream",
     "text": [
      "0.9053251383855321\n"
     ]
    }
   ],
   "source": [
    "print(precision_score(y_test,y_pred4,average='weighted'))"
   ]
  },
  {
   "cell_type": "code",
   "execution_count": null,
   "id": "1096a9eb",
   "metadata": {
    "id": "1096a9eb",
    "outputId": "233d2f21-36f4-41d9-9d19-25568b88cc10"
   },
   "outputs": [
    {
     "name": "stdout",
     "output_type": "stream",
     "text": [
      "0.9049707602339181\n"
     ]
    }
   ],
   "source": [
    "print(recall_score(y_test,y_pred4,average='weighted'))"
   ]
  },
  {
   "cell_type": "code",
   "execution_count": null,
   "id": "fa635ba5",
   "metadata": {
    "id": "fa635ba5",
    "outputId": "b737e748-0116-4e0c-dedf-3e9962345b23"
   },
   "outputs": [
    {
     "name": "stdout",
     "output_type": "stream",
     "text": [
      "0.904214434241408\n"
     ]
    }
   ],
   "source": [
    "print(f1_score(y_test,y_pred4,average='weighted'))"
   ]
  },
  {
   "cell_type": "code",
   "execution_count": null,
   "id": "f5a2567a",
   "metadata": {
    "id": "f5a2567a",
    "outputId": "bec4ec9b-c79c-4372-8b41-a18ea1e17c6d"
   },
   "outputs": [
    {
     "name": "stdout",
     "output_type": "stream",
     "text": [
      "[[126   3   0   0]\n",
      " [ 13 207  22   7]\n",
      " [  0  12 153   0]\n",
      " [  0   8   0 133]]\n"
     ]
    },
    {
     "data": {
      "image/png": "[encoded data removed]",
      "text/plain": [
       "<Figure size 432x288 with 2 Axes>"
      ]
     },
     "metadata": {
      "needs_background": "light"
     },
     "output_type": "display_data"
    },
    {
     "name": "stdout",
     "output_type": "stream",
     "text": [
      "\n",
      "Classification Report\n",
      "\n",
      "                precision    recall  f1-score   support\n",
      "\n",
      "    Inner Race       0.91      0.98      0.94       129\n",
      "        Normal       0.90      0.83      0.86       249\n",
      "    Outer Race       0.87      0.93      0.90       165\n",
      "Roller Element       0.95      0.94      0.95       141\n",
      "\n",
      "      accuracy                           0.90       684\n",
      "     macro avg       0.91      0.92      0.91       684\n",
      "  weighted avg       0.91      0.90      0.90       684\n",
      "\n"
     ]
    }
   ],
   "source": [
    "cm4 = confusion_matrix(y_test, y_pred4)\n",
    "print(cm4)\n",
    "disp4 = ConfusionMatrixDisplay(confusion_matrix=cm4)\n",
    "disp4.plot()\n",
    "plt.show()\n",
    "print('\\nClassification Report\\n')\n",
    "print(classification_report(y_test, y_pred4))"
   ]
  },
  {
   "cell_type": "markdown",
   "id": "f317c766",
   "metadata": {
    "id": "f317c766"
   },
   "source": [
    "### 5.Random Forest "
   ]
  },
  {
   "cell_type": "code",
   "execution_count": null,
   "id": "a53e0459",
   "metadata": {
    "id": "a53e0459"
   },
   "outputs": [],
   "source": [
    "rf_model = RandomForestClassifier(n_estimators=100)"
   ]
  },
  {
   "cell_type": "code",
   "execution_count": null,
   "id": "e7c2734a",
   "metadata": {
    "id": "e7c2734a",
    "outputId": "d19d89d1-bb68-478c-ae15-4161b2c4d832"
   },
   "outputs": [
    {
     "data": {
      "text/plain": [
       "RandomForestClassifier()"
      ]
     },
     "execution_count": 196,
     "metadata": {},
     "output_type": "execute_result"
    }
   ],
   "source": [
    "rf_model.fit(X_train, y_train)"
   ]
  },
  {
   "cell_type": "code",
   "execution_count": null,
   "id": "3c46e6b8",
   "metadata": {
    "id": "3c46e6b8"
   },
   "outputs": [],
   "source": [
    "y_pred5 = rf_model.predict(X_test)"
   ]
  },
  {
   "cell_type": "code",
   "execution_count": null,
   "id": "e4dc176d",
   "metadata": {
    "id": "e4dc176d"
   },
   "outputs": [],
   "source": [
    "#y_pred5"
   ]
  },
  {
   "cell_type": "code",
   "execution_count": null,
   "id": "2097170f",
   "metadata": {
    "id": "2097170f",
    "outputId": "ab5e0fc4-7849-4db9-9769-811083a5773b"
   },
   "outputs": [
    {
     "name": "stdout",
     "output_type": "stream",
     "text": [
      "0.9590643274853801\n"
     ]
    }
   ],
   "source": [
    "accuracy5 = accuracy_score(y_test,y_pred5)\n",
    "print(accuracy5)"
   ]
  },
  {
   "cell_type": "code",
   "execution_count": null,
   "id": "9bcb253f",
   "metadata": {
    "id": "9bcb253f",
    "outputId": "c946b780-8b44-4124-f7b6-0c6faac450fa"
   },
   "outputs": [
    {
     "name": "stdout",
     "output_type": "stream",
     "text": [
      "0.9598083656786149\n"
     ]
    }
   ],
   "source": [
    "print(precision_score(y_test,y_pred5,average='weighted'))"
   ]
  },
  {
   "cell_type": "code",
   "execution_count": null,
   "id": "57cad780",
   "metadata": {
    "id": "57cad780",
    "outputId": "ef245587-2781-4e7a-f0cd-241b61d92a48"
   },
   "outputs": [
    {
     "name": "stdout",
     "output_type": "stream",
     "text": [
      "0.9590643274853801\n"
     ]
    }
   ],
   "source": [
    "print(recall_score(y_test,y_pred5,average='weighted'))"
   ]
  },
  {
   "cell_type": "code",
   "execution_count": null,
   "id": "d1310bd6",
   "metadata": {
    "id": "d1310bd6",
    "outputId": "3087d554-cb62-43b7-e7a4-380da94672dc"
   },
   "outputs": [
    {
     "name": "stdout",
     "output_type": "stream",
     "text": [
      "0.9588690730485898\n"
     ]
    }
   ],
   "source": [
    "print(f1_score(y_test,y_pred5,average='weighted'))"
   ]
  },
  {
   "cell_type": "code",
   "execution_count": null,
   "id": "b99a088f",
   "metadata": {
    "id": "b99a088f"
   },
   "outputs": [],
   "source": [
    "param_grid = {'n_estimators': [25, 50, 100, 150],\n",
    "'max_features': ['sqrt', 'log2', None],\n",
    "'max_depth': [3, 6, 9],\n",
    "'max_leaf_nodes': [3, 6, 9],\n",
    "}\n"
   ]
  },
  {
   "cell_type": "code",
   "execution_count": null,
   "id": "f7bb8b28",
   "metadata": {
    "id": "f7bb8b28",
    "outputId": "26cc4780-f56b-4c73-e3e9-ef38923e3c82"
   },
   "outputs": [
    {
     "name": "stdout",
     "output_type": "stream",
     "text": [
      "RandomForestClassifier(max_depth=6, max_features='sqrt', max_leaf_nodes=9,\n",
      "                       n_estimators=50)\n"
     ]
    }
   ],
   "source": [
    "grid_search = GridSearchCV(RandomForestClassifier(),param_grid=param_grid)\n",
    "grid_search.fit(X_train, y_train)\n",
    "print(grid_search.best_estimator_)\n"
   ]
  },
  {
   "cell_type": "code",
   "execution_count": null,
   "id": "f8593c1f",
   "metadata": {
    "id": "f8593c1f"
   },
   "outputs": [],
   "source": [
    "rf_model1 = RandomForestClassifier(max_depth=6, max_features='sqrt', max_leaf_nodes=9,n_estimators=50)"
   ]
  },
  {
   "cell_type": "code",
   "execution_count": null,
   "id": "d9ff3354",
   "metadata": {
    "id": "d9ff3354",
    "outputId": "5328f84f-0212-4476-fd53-b0383b94484e"
   },
   "outputs": [
    {
     "data": {
      "text/plain": [
       "RandomForestClassifier(max_depth=6, max_features='sqrt', max_leaf_nodes=9,\n",
       "                       n_estimators=50)"
      ]
     },
     "execution_count": 207,
     "metadata": {},
     "output_type": "execute_result"
    }
   ],
   "source": [
    "rf_model1.fit(X_train, y_train)"
   ]
  },
  {
   "cell_type": "code",
   "execution_count": null,
   "id": "1cf6aa2a",
   "metadata": {
    "id": "1cf6aa2a"
   },
   "outputs": [],
   "source": [
    "y_pred51 = rf_model1.predict(X_test)"
   ]
  },
  {
   "cell_type": "code",
   "execution_count": null,
   "id": "a0c0655c",
   "metadata": {
    "id": "a0c0655c",
    "outputId": "9c4b944a-b33d-40d8-b9bf-f6f879cfee88",
    "scrolled": true
   },
   "outputs": [
    {
     "name": "stdout",
     "output_type": "stream",
     "text": [
      "0.9298245614035088\n"
     ]
    }
   ],
   "source": [
    "accuracy51 = accuracy_score(y_test,y_pred51)\n",
    "print(accuracy51)"
   ]
  },
  {
   "cell_type": "code",
   "execution_count": null,
   "id": "4a8dc3a0",
   "metadata": {
    "id": "4a8dc3a0",
    "outputId": "26fea9c8-95a2-42e7-b2b4-a51dc98c5be3"
   },
   "outputs": [
    {
     "name": "stdout",
     "output_type": "stream",
     "text": [
      "[[126   3   0   0]\n",
      " [ 10 228   3   8]\n",
      " [  0   4 161   0]\n",
      " [  0   0   0 141]]\n"
     ]
    },
    {
     "data": {
      "image/png": "[encoded data removed]",
      "text/plain": [
       "<Figure size 432x288 with 2 Axes>"
      ]
     },
     "metadata": {
      "needs_background": "light"
     },
     "output_type": "display_data"
    },
    {
     "name": "stdout",
     "output_type": "stream",
     "text": [
      "\n",
      "Classification Report\n",
      "\n",
      "                precision    recall  f1-score   support\n",
      "\n",
      "    Inner Race       0.93      0.98      0.95       129\n",
      "        Normal       0.97      0.92      0.94       249\n",
      "    Outer Race       0.98      0.98      0.98       165\n",
      "Roller Element       0.95      1.00      0.97       141\n",
      "\n",
      "      accuracy                           0.96       684\n",
      "     macro avg       0.96      0.97      0.96       684\n",
      "  weighted avg       0.96      0.96      0.96       684\n",
      "\n"
     ]
    }
   ],
   "source": [
    "cm5 = confusion_matrix(y_test, y_pred5)\n",
    "print(cm5)\n",
    "disp5 = ConfusionMatrixDisplay(confusion_matrix=cm5)\n",
    "disp5.plot()\n",
    "plt.show()\n",
    "print('\\nClassification Report\\n')\n",
    "print(classification_report(y_test, y_pred5))"
   ]
  },
  {
   "cell_type": "markdown",
   "id": "df8484bb",
   "metadata": {
    "id": "df8484bb"
   },
   "source": [
    "### 6.Support Vector Machines"
   ]
  },
  {
   "cell_type": "code",
   "execution_count": null,
   "id": "36106879",
   "metadata": {
    "id": "36106879"
   },
   "outputs": [],
   "source": [
    "svm_model = SVC(C=1.0,\n",
    "    kernel='rbf',\n",
    "    degree=3,\n",
    "    gamma='scale')"
   ]
  },
  {
   "cell_type": "code",
   "execution_count": null,
   "id": "f82c31cf",
   "metadata": {
    "id": "f82c31cf",
    "outputId": "a92076df-7210-4cbc-e75f-c96936ee1ea0"
   },
   "outputs": [
    {
     "data": {
      "text/plain": [
       "SVC()"
      ]
     },
     "execution_count": 212,
     "metadata": {},
     "output_type": "execute_result"
    }
   ],
   "source": [
    "svm_model.fit(X_train, y_train)"
   ]
  },
  {
   "cell_type": "code",
   "execution_count": null,
   "id": "c63cf684",
   "metadata": {
    "id": "c63cf684"
   },
   "outputs": [],
   "source": [
    "y_pred6 = svm_model.predict(X_test)"
   ]
  },
  {
   "cell_type": "code",
   "execution_count": null,
   "id": "25a5ebfb",
   "metadata": {
    "id": "25a5ebfb"
   },
   "outputs": [],
   "source": [
    "#y_pred6"
   ]
  },
  {
   "cell_type": "code",
   "execution_count": null,
   "id": "cdfb502a",
   "metadata": {
    "id": "cdfb502a",
    "outputId": "de4da8e9-1c2d-4a22-a231-0963fd901bed"
   },
   "outputs": [
    {
     "name": "stdout",
     "output_type": "stream",
     "text": [
      "0.5789473684210527\n"
     ]
    }
   ],
   "source": [
    "accuracy6 = accuracy_score(y_test,y_pred6)\n",
    "print(accuracy6)"
   ]
  },
  {
   "cell_type": "code",
   "execution_count": null,
   "id": "89f2add1",
   "metadata": {
    "id": "89f2add1",
    "outputId": "133e839e-1318-40a7-ed6a-e9db6b304c3a"
   },
   "outputs": [
    {
     "name": "stdout",
     "output_type": "stream",
     "text": [
      "Fitting 5 folds for each of 25 candidates, totalling 125 fits\n",
      "[CV 1/5] END ........C=0.1, gamma=1, kernel=rbf;, score=0.721 total time=   0.0s\n",
      "[CV 2/5] END ........C=0.1, gamma=1, kernel=rbf;, score=0.749 total time=   0.0s\n",
      "[CV 3/5] END ........C=0.1, gamma=1, kernel=rbf;, score=0.784 total time=   0.0s\n",
      "[CV 4/5] END ........C=0.1, gamma=1, kernel=rbf;, score=0.777 total time=   0.0s\n",
      "[CV 5/5] END ........C=0.1, gamma=1, kernel=rbf;, score=0.770 total time=   0.0s\n",
      "[CV 1/5] END ......C=0.1, gamma=0.1, kernel=rbf;, score=0.730 total time=   0.0s\n",
      "[CV 2/5] END ......C=0.1, gamma=0.1, kernel=rbf;, score=0.712 total time=   0.0s\n",
      "[CV 3/5] END ......C=0.1, gamma=0.1, kernel=rbf;, score=0.680 total time=   0.0s\n",
      "[CV 4/5] END ......C=0.1, gamma=0.1, kernel=rbf;, score=0.699 total time=   0.0s\n",
      "[CV 5/5] END ......C=0.1, gamma=0.1, kernel=rbf;, score=0.701 total time=   0.0s\n",
      "[CV 1/5] END .....C=0.1, gamma=0.01, kernel=rbf;, score=0.608 total time=   0.0s\n",
      "[CV 2/5] END .....C=0.1, gamma=0.01, kernel=rbf;, score=0.596 total time=   0.0s\n",
      "[CV 3/5] END .....C=0.1, gamma=0.01, kernel=rbf;, score=0.561 total time=   0.0s\n",
      "[CV 4/5] END .....C=0.1, gamma=0.01, kernel=rbf;, score=0.561 total time=   0.0s\n",
      "[CV 5/5] END .....C=0.1, gamma=0.01, kernel=rbf;, score=0.572 total time=   0.0s\n",
      "[CV 1/5] END ....C=0.1, gamma=0.001, kernel=rbf;, score=0.599 total time=   0.0s\n",
      "[CV 2/5] END ....C=0.1, gamma=0.001, kernel=rbf;, score=0.592 total time=   0.0s\n",
      "[CV 3/5] END ....C=0.1, gamma=0.001, kernel=rbf;, score=0.561 total time=   0.0s\n",
      "[CV 4/5] END ....C=0.1, gamma=0.001, kernel=rbf;, score=0.558 total time=   0.0s\n",
      "[CV 5/5] END ....C=0.1, gamma=0.001, kernel=rbf;, score=0.572 total time=   0.0s\n",
      "[CV 1/5] END ...C=0.1, gamma=0.0001, kernel=rbf;, score=0.564 total time=   0.0s\n",
      "[CV 2/5] END ...C=0.1, gamma=0.0001, kernel=rbf;, score=0.561 total time=   0.0s\n",
      "[CV 3/5] END ...C=0.1, gamma=0.0001, kernel=rbf;, score=0.517 total time=   0.0s\n",
      "[CV 4/5] END ...C=0.1, gamma=0.0001, kernel=rbf;, score=0.502 total time=   0.0s\n",
      "[CV 5/5] END ...C=0.1, gamma=0.0001, kernel=rbf;, score=0.541 total time=   0.0s\n",
      "[CV 1/5] END ..........C=1, gamma=1, kernel=rbf;, score=0.865 total time=   0.0s\n",
      "[CV 2/5] END ..........C=1, gamma=1, kernel=rbf;, score=0.871 total time=   0.0s\n",
      "[CV 3/5] END ..........C=1, gamma=1, kernel=rbf;, score=0.850 total time=   0.0s\n",
      "[CV 4/5] END ..........C=1, gamma=1, kernel=rbf;, score=0.846 total time=   0.0s\n",
      "[CV 5/5] END ..........C=1, gamma=1, kernel=rbf;, score=0.827 total time=   0.0s\n",
      "[CV 1/5] END ........C=1, gamma=0.1, kernel=rbf;, score=0.850 total time=   0.0s\n",
      "[CV 2/5] END ........C=1, gamma=0.1, kernel=rbf;, score=0.862 total time=   0.0s\n",
      "[CV 3/5] END ........C=1, gamma=0.1, kernel=rbf;, score=0.834 total time=   0.0s\n",
      "[CV 4/5] END ........C=1, gamma=0.1, kernel=rbf;, score=0.809 total time=   0.0s\n",
      "[CV 5/5] END ........C=1, gamma=0.1, kernel=rbf;, score=0.830 total time=   0.0s\n",
      "[CV 1/5] END .......C=1, gamma=0.01, kernel=rbf;, score=0.718 total time=   0.0s\n",
      "[CV 2/5] END .......C=1, gamma=0.01, kernel=rbf;, score=0.696 total time=   0.0s\n",
      "[CV 3/5] END .......C=1, gamma=0.01, kernel=rbf;, score=0.661 total time=   0.0s\n",
      "[CV 4/5] END .......C=1, gamma=0.01, kernel=rbf;, score=0.687 total time=   0.0s\n",
      "[CV 5/5] END .......C=1, gamma=0.01, kernel=rbf;, score=0.711 total time=   0.0s\n",
      "[CV 1/5] END ......C=1, gamma=0.001, kernel=rbf;, score=0.611 total time=   0.0s\n",
      "[CV 2/5] END ......C=1, gamma=0.001, kernel=rbf;, score=0.599 total time=   0.0s\n",
      "[CV 3/5] END ......C=1, gamma=0.001, kernel=rbf;, score=0.549 total time=   0.0s\n",
      "[CV 4/5] END ......C=1, gamma=0.001, kernel=rbf;, score=0.555 total time=   0.0s\n",
      "[CV 5/5] END ......C=1, gamma=0.001, kernel=rbf;, score=0.579 total time=   0.0s\n",
      "[CV 1/5] END .....C=1, gamma=0.0001, kernel=rbf;, score=0.602 total time=   0.0s\n",
      "[CV 2/5] END .....C=1, gamma=0.0001, kernel=rbf;, score=0.592 total time=   0.0s\n",
      "[CV 3/5] END .....C=1, gamma=0.0001, kernel=rbf;, score=0.545 total time=   0.0s\n",
      "[CV 4/5] END .....C=1, gamma=0.0001, kernel=rbf;, score=0.564 total time=   0.0s\n",
      "[CV 5/5] END .....C=1, gamma=0.0001, kernel=rbf;, score=0.572 total time=   0.0s\n",
      "[CV 1/5] END .........C=10, gamma=1, kernel=rbf;, score=0.865 total time=   0.0s\n",
      "[CV 2/5] END .........C=10, gamma=1, kernel=rbf;, score=0.871 total time=   0.0s\n",
      "[CV 3/5] END .........C=10, gamma=1, kernel=rbf;, score=0.856 total time=   0.0s\n",
      "[CV 4/5] END .........C=10, gamma=1, kernel=rbf;, score=0.862 total time=   0.0s\n",
      "[CV 5/5] END .........C=10, gamma=1, kernel=rbf;, score=0.855 total time=   0.0s\n",
      "[CV 1/5] END .......C=10, gamma=0.1, kernel=rbf;, score=0.890 total time=   0.0s\n",
      "[CV 2/5] END .......C=10, gamma=0.1, kernel=rbf;, score=0.887 total time=   0.0s\n",
      "[CV 3/5] END .......C=10, gamma=0.1, kernel=rbf;, score=0.868 total time=   0.0s\n",
      "[CV 4/5] END .......C=10, gamma=0.1, kernel=rbf;, score=0.850 total time=   0.0s\n",
      "[CV 5/5] END .......C=10, gamma=0.1, kernel=rbf;, score=0.871 total time=   0.0s\n",
      "[CV 1/5] END ......C=10, gamma=0.01, kernel=rbf;, score=0.878 total time=   0.0s\n",
      "[CV 2/5] END ......C=10, gamma=0.01, kernel=rbf;, score=0.856 total time=   0.0s\n",
      "[CV 3/5] END ......C=10, gamma=0.01, kernel=rbf;, score=0.846 total time=   0.0s\n",
      "[CV 4/5] END ......C=10, gamma=0.01, kernel=rbf;, score=0.850 total time=   0.0s\n",
      "[CV 5/5] END ......C=10, gamma=0.01, kernel=rbf;, score=0.868 total time=   0.0s\n",
      "[CV 1/5] END .....C=10, gamma=0.001, kernel=rbf;, score=0.743 total time=   0.0s\n",
      "[CV 2/5] END .....C=10, gamma=0.001, kernel=rbf;, score=0.721 total time=   0.0s\n",
      "[CV 3/5] END .....C=10, gamma=0.001, kernel=rbf;, score=0.661 total time=   0.0s\n",
      "[CV 4/5] END .....C=10, gamma=0.001, kernel=rbf;, score=0.699 total time=   0.0s\n",
      "[CV 5/5] END .....C=10, gamma=0.001, kernel=rbf;, score=0.733 total time=   0.0s\n",
      "[CV 1/5] END ....C=10, gamma=0.0001, kernel=rbf;, score=0.624 total time=   0.0s\n",
      "[CV 2/5] END ....C=10, gamma=0.0001, kernel=rbf;, score=0.605 total time=   0.0s\n",
      "[CV 3/5] END ....C=10, gamma=0.0001, kernel=rbf;, score=0.558 total time=   0.0s\n",
      "[CV 4/5] END ....C=10, gamma=0.0001, kernel=rbf;, score=0.577 total time=   0.0s\n",
      "[CV 5/5] END ....C=10, gamma=0.0001, kernel=rbf;, score=0.588 total time=   0.0s\n",
      "[CV 1/5] END ........C=100, gamma=1, kernel=rbf;, score=0.875 total time=   0.0s\n",
      "[CV 2/5] END ........C=100, gamma=1, kernel=rbf;, score=0.887 total time=   0.0s\n",
      "[CV 3/5] END ........C=100, gamma=1, kernel=rbf;, score=0.868 total time=   0.0s\n",
      "[CV 4/5] END ........C=100, gamma=1, kernel=rbf;, score=0.884 total time=   0.0s\n",
      "[CV 5/5] END ........C=100, gamma=1, kernel=rbf;, score=0.881 total time=   0.0s\n",
      "[CV 1/5] END ......C=100, gamma=0.1, kernel=rbf;, score=0.912 total time=   0.0s\n",
      "[CV 2/5] END ......C=100, gamma=0.1, kernel=rbf;, score=0.915 total time=   0.0s\n",
      "[CV 3/5] END ......C=100, gamma=0.1, kernel=rbf;, score=0.881 total time=   0.0s\n",
      "[CV 4/5] END ......C=100, gamma=0.1, kernel=rbf;, score=0.900 total time=   0.0s\n",
      "[CV 5/5] END ......C=100, gamma=0.1, kernel=rbf;, score=0.903 total time=   0.0s\n",
      "[CV 1/5] END .....C=100, gamma=0.01, kernel=rbf;, score=0.922 total time=   0.0s\n",
      "[CV 2/5] END .....C=100, gamma=0.01, kernel=rbf;, score=0.890 total time=   0.0s\n",
      "[CV 3/5] END .....C=100, gamma=0.01, kernel=rbf;, score=0.878 total time=   0.0s\n",
      "[CV 4/5] END .....C=100, gamma=0.01, kernel=rbf;, score=0.906 total time=   0.0s\n",
      "[CV 5/5] END .....C=100, gamma=0.01, kernel=rbf;, score=0.921 total time=   0.0s\n",
      "[CV 1/5] END ....C=100, gamma=0.001, kernel=rbf;, score=0.865 total time=   0.0s\n",
      "[CV 2/5] END ....C=100, gamma=0.001, kernel=rbf;, score=0.890 total time=   0.0s\n",
      "[CV 3/5] END ....C=100, gamma=0.001, kernel=rbf;, score=0.859 total time=   0.0s\n",
      "[CV 4/5] END ....C=100, gamma=0.001, kernel=rbf;, score=0.871 total time=   0.0s\n",
      "[CV 5/5] END ....C=100, gamma=0.001, kernel=rbf;, score=0.890 total time=   0.0s\n",
      "[CV 1/5] END ...C=100, gamma=0.0001, kernel=rbf;, score=0.749 total time=   0.0s\n",
      "[CV 2/5] END ...C=100, gamma=0.0001, kernel=rbf;, score=0.734 total time=   0.0s\n",
      "[CV 3/5] END ...C=100, gamma=0.0001, kernel=rbf;, score=0.668 total time=   0.0s\n",
      "[CV 4/5] END ...C=100, gamma=0.0001, kernel=rbf;, score=0.727 total time=   0.0s\n",
      "[CV 5/5] END ...C=100, gamma=0.0001, kernel=rbf;, score=0.745 total time=   0.0s\n",
      "[CV 1/5] END .......C=1000, gamma=1, kernel=rbf;, score=0.875 total time=   0.0s\n",
      "[CV 2/5] END .......C=1000, gamma=1, kernel=rbf;, score=0.884 total time=   0.0s\n",
      "[CV 3/5] END .......C=1000, gamma=1, kernel=rbf;, score=0.868 total time=   0.0s\n",
      "[CV 4/5] END .......C=1000, gamma=1, kernel=rbf;, score=0.884 total time=   0.0s\n",
      "[CV 5/5] END .......C=1000, gamma=1, kernel=rbf;, score=0.877 total time=   0.0s\n",
      "[CV 1/5] END .....C=1000, gamma=0.1, kernel=rbf;, score=0.918 total time=   0.0s\n",
      "[CV 2/5] END .....C=1000, gamma=0.1, kernel=rbf;, score=0.918 total time=   0.0s\n",
      "[CV 3/5] END .....C=1000, gamma=0.1, kernel=rbf;, score=0.897 total time=   0.0s\n",
      "[CV 4/5] END .....C=1000, gamma=0.1, kernel=rbf;, score=0.906 total time=   0.0s\n",
      "[CV 5/5] END .....C=1000, gamma=0.1, kernel=rbf;, score=0.918 total time=   0.0s\n",
      "[CV 1/5] END ....C=1000, gamma=0.01, kernel=rbf;, score=0.937 total time=   0.0s\n",
      "[CV 2/5] END ....C=1000, gamma=0.01, kernel=rbf;, score=0.922 total time=   0.0s\n",
      "[CV 3/5] END ....C=1000, gamma=0.01, kernel=rbf;, score=0.906 total time=   0.0s\n",
      "[CV 4/5] END ....C=1000, gamma=0.01, kernel=rbf;, score=0.931 total time=   0.0s\n",
      "[CV 5/5] END ....C=1000, gamma=0.01, kernel=rbf;, score=0.947 total time=   0.0s\n",
      "[CV 1/5] END ...C=1000, gamma=0.001, kernel=rbf;, score=0.944 total time=   0.0s\n",
      "[CV 2/5] END ...C=1000, gamma=0.001, kernel=rbf;, score=0.918 total time=   0.0s\n",
      "[CV 3/5] END ...C=1000, gamma=0.001, kernel=rbf;, score=0.909 total time=   0.0s\n",
      "[CV 4/5] END ...C=1000, gamma=0.001, kernel=rbf;, score=0.922 total time=   0.0s\n",
      "[CV 5/5] END ...C=1000, gamma=0.001, kernel=rbf;, score=0.947 total time=   0.0s\n",
      "[CV 1/5] END ..C=1000, gamma=0.0001, kernel=rbf;, score=0.881 total time=   0.0s\n",
      "[CV 2/5] END ..C=1000, gamma=0.0001, kernel=rbf;, score=0.878 total time=   0.0s\n",
      "[CV 3/5] END ..C=1000, gamma=0.0001, kernel=rbf;, score=0.865 total time=   0.0s\n",
      "[CV 4/5] END ..C=1000, gamma=0.0001, kernel=rbf;, score=0.875 total time=   0.0s\n",
      "[CV 5/5] END ..C=1000, gamma=0.0001, kernel=rbf;, score=0.887 total time=   0.0s\n"
     ]
    },
    {
     "data": {
      "text/plain": [
       "GridSearchCV(estimator=SVC(),\n",
       "             param_grid={'C': [0.1, 1, 10, 100, 1000],\n",
       "                         'gamma': [1, 0.1, 0.01, 0.001, 0.0001],\n",
       "                         'kernel': ['rbf']},\n",
       "             verbose=3)"
      ]
     },
     "execution_count": 217,
     "metadata": {},
     "output_type": "execute_result"
    }
   ],
   "source": [
    "from sklearn.model_selection import GridSearchCV\n",
    "\n",
    "# defining parameter range\n",
    "param_grid_svm = {'C': [0.1, 1, 10, 100, 1000],\n",
    "'gamma': [1, 0.1, 0.01, 0.001, 0.0001],\n",
    "'kernel': ['rbf']}\n",
    "\n",
    "grid = GridSearchCV(SVC(), param_grid_svm, refit = True, verbose = 3)\n",
    "\n",
    "# fitting the model for grid search\n",
    "grid.fit(X_train, y_train)\n"
   ]
  },
  {
   "cell_type": "code",
   "execution_count": null,
   "id": "b8638fb9",
   "metadata": {
    "id": "b8638fb9",
    "outputId": "c613ff17-e702-4150-9ed2-e5c42f2b35e9"
   },
   "outputs": [
    {
     "name": "stdout",
     "output_type": "stream",
     "text": [
      "{'C': 1000, 'gamma': 0.01, 'kernel': 'rbf'}\n"
     ]
    }
   ],
   "source": [
    "print(grid.best_params_)"
   ]
  },
  {
   "cell_type": "code",
   "execution_count": null,
   "id": "1580f94f",
   "metadata": {
    "id": "1580f94f"
   },
   "outputs": [],
   "source": [
    "svm_model1 = SVC(C= 1000, gamma= 0.01, kernel= 'rbf')"
   ]
  },
  {
   "cell_type": "code",
   "execution_count": null,
   "id": "26bab5a0",
   "metadata": {
    "id": "26bab5a0",
    "outputId": "7d9f3eda-0bc5-414b-bcd4-473f8c14a5ac"
   },
   "outputs": [
    {
     "data": {
      "text/plain": [
       "SVC(C=1000, gamma=0.01)"
      ]
     },
     "execution_count": 222,
     "metadata": {},
     "output_type": "execute_result"
    }
   ],
   "source": [
    "svm_model1.fit(X_train, y_train)"
   ]
  },
  {
   "cell_type": "code",
   "execution_count": null,
   "id": "5a4f454a",
   "metadata": {
    "id": "5a4f454a"
   },
   "outputs": [],
   "source": [
    "y_pred61 = svm_model1.predict(X_test)"
   ]
  },
  {
   "cell_type": "code",
   "execution_count": null,
   "id": "7b72c4b2",
   "metadata": {
    "id": "7b72c4b2",
    "outputId": "4ecd7250-3b23-48fe-8cda-30f9612119e0"
   },
   "outputs": [
    {
     "name": "stdout",
     "output_type": "stream",
     "text": [
      "0.9327485380116959\n"
     ]
    }
   ],
   "source": [
    "accuracy61 = accuracy_score(y_test,y_pred61)\n",
    "print(accuracy61)"
   ]
  },
  {
   "cell_type": "code",
   "execution_count": null,
   "id": "897c2c31",
   "metadata": {
    "id": "897c2c31",
    "outputId": "87877710-7141-4b46-b05c-ccbfc93c71e3"
   },
   "outputs": [
    {
     "name": "stdout",
     "output_type": "stream",
     "text": [
      "0.9337435096567018\n"
     ]
    }
   ],
   "source": [
    "print(precision_score(y_test,y_pred61,average='weighted'))"
   ]
  },
  {
   "cell_type": "code",
   "execution_count": null,
   "id": "5ffa5a1b",
   "metadata": {
    "id": "5ffa5a1b",
    "outputId": "03af3361-066a-4b61-c619-835d106cee0d"
   },
   "outputs": [
    {
     "name": "stdout",
     "output_type": "stream",
     "text": [
      "0.9337435096567018\n"
     ]
    }
   ],
   "source": [
    "print(precision_score(y_test,y_pred61,average='weighted'))"
   ]
  },
  {
   "cell_type": "code",
   "execution_count": null,
   "id": "315c5472",
   "metadata": {
    "id": "315c5472",
    "outputId": "51d03ed7-3d7d-406b-8b83-d6d9ffa73d87"
   },
   "outputs": [
    {
     "name": "stdout",
     "output_type": "stream",
     "text": [
      "0.9590643274853801\n"
     ]
    }
   ],
   "source": [
    "print(recall_score(y_test,y_pred5,average='weighted'))"
   ]
  },
  {
   "cell_type": "code",
   "execution_count": null,
   "id": "313ad1bc",
   "metadata": {
    "id": "313ad1bc",
    "outputId": "47a37066-2b7b-4f56-dd5d-6da6d90add08"
   },
   "outputs": [
    {
     "name": "stdout",
     "output_type": "stream",
     "text": [
      "[[129   0   0   0]\n",
      " [ 14 215  11   9]\n",
      " [  0  12 153   0]\n",
      " [  0   0   0 141]]\n"
     ]
    },
    {
     "data": {
      "image/png": "[encoded data removed]",
      "text/plain": [
       "<Figure size 432x288 with 2 Axes>"
      ]
     },
     "metadata": {
      "needs_background": "light"
     },
     "output_type": "display_data"
    },
    {
     "name": "stdout",
     "output_type": "stream",
     "text": [
      "\n",
      "Classification Report\n",
      "\n",
      "                precision    recall  f1-score   support\n",
      "\n",
      "    Inner Race       0.90      1.00      0.95       129\n",
      "        Normal       0.95      0.86      0.90       249\n",
      "    Outer Race       0.93      0.93      0.93       165\n",
      "Roller Element       0.94      1.00      0.97       141\n",
      "\n",
      "      accuracy                           0.93       684\n",
      "     macro avg       0.93      0.95      0.94       684\n",
      "  weighted avg       0.93      0.93      0.93       684\n",
      "\n"
     ]
    }
   ],
   "source": [
    "cm61 = confusion_matrix(y_test, y_pred61)\n",
    "print(cm61)\n",
    "disp61 = ConfusionMatrixDisplay(confusion_matrix=cm61)\n",
    "disp61.plot()\n",
    "plt.show()\n",
    "print('\\nClassification Report\\n')\n",
    "print(classification_report(y_test, y_pred61))"
   ]
  },
  {
   "cell_type": "markdown",
   "id": "2a450167",
   "metadata": {
    "id": "2a450167"
   },
   "source": [
    "### 7.AdaBoost"
   ]
  },
  {
   "cell_type": "code",
   "execution_count": null,
   "id": "1e013d4d",
   "metadata": {
    "id": "1e013d4d"
   },
   "outputs": [],
   "source": [
    "adaboost_model = AdaBoostClassifier(n_estimators=100, random_state=0)"
   ]
  },
  {
   "cell_type": "code",
   "execution_count": null,
   "id": "2dccc765",
   "metadata": {
    "id": "2dccc765",
    "outputId": "f5b26851-b5ec-4b8d-eecc-c7be672959dc"
   },
   "outputs": [
    {
     "data": {
      "text/plain": [
       "AdaBoostClassifier(n_estimators=100, random_state=0)"
      ]
     },
     "execution_count": 234,
     "metadata": {},
     "output_type": "execute_result"
    }
   ],
   "source": [
    "adaboost_model.fit(X_train, y_train)"
   ]
  },
  {
   "cell_type": "code",
   "execution_count": null,
   "id": "0f8ffce4",
   "metadata": {
    "id": "0f8ffce4"
   },
   "outputs": [],
   "source": [
    "y_pred7 = adaboost_model.predict(X_test)"
   ]
  },
  {
   "cell_type": "code",
   "execution_count": null,
   "id": "ac639bd5",
   "metadata": {
    "id": "ac639bd5"
   },
   "outputs": [],
   "source": [
    "#y_pred7"
   ]
  },
  {
   "cell_type": "code",
   "execution_count": null,
   "id": "03d84da6",
   "metadata": {
    "id": "03d84da6",
    "outputId": "3a39e760-86ef-48c4-dd01-526d9221b4ea"
   },
   "outputs": [
    {
     "name": "stdout",
     "output_type": "stream",
     "text": [
      "0.7149122807017544\n"
     ]
    }
   ],
   "source": [
    "accuracy7 = accuracy_score(y_test,y_pred7)\n",
    "print(accuracy7)"
   ]
  },
  {
   "cell_type": "code",
   "execution_count": null,
   "id": "19d3b757",
   "metadata": {
    "id": "19d3b757"
   },
   "outputs": [],
   "source": [
    "parameters_adaboost = {\n",
    "    'n_estimators': [2, 3, 4, 5, 6, 7, 8, 9, 10, 11, 12, 20],\n",
    "    'learning_rate': [(0.97 + x / 100) for x in range(0, 8)],\n",
    "    'algorithm': ['SAMME', 'SAMME.R']\n",
    "}"
   ]
  },
  {
   "cell_type": "code",
   "execution_count": null,
   "id": "96a16835",
   "metadata": {
    "id": "96a16835",
    "outputId": "9f59c656-3047-4bad-85ab-f3be7b30490f"
   },
   "outputs": [
    {
     "data": {
      "text/plain": [
       "GridSearchCV(cv=5,\n",
       "             estimator=AdaBoostClassifier(n_estimators=100, random_state=0),\n",
       "             param_grid={'algorithm': ['SAMME', 'SAMME.R'],\n",
       "                         'learning_rate': [0.97, 0.98, 0.99, 1.0, 1.01, 1.02,\n",
       "                                           1.03, 1.04],\n",
       "                         'n_estimators': [2, 3, 4, 5, 6, 7, 8, 9, 10, 11, 12,\n",
       "                                          20]})"
      ]
     },
     "execution_count": 245,
     "metadata": {},
     "output_type": "execute_result"
    }
   ],
   "source": [
    "clf = GridSearchCV(adaboost_model, parameters_adaboost, cv=5)\n",
    "clf.fit(X_train, y_train)\n"
   ]
  },
  {
   "cell_type": "code",
   "execution_count": null,
   "id": "da4173e6",
   "metadata": {
    "id": "da4173e6",
    "outputId": "d6456a1f-3afc-42ff-c317-1abd3817ee41"
   },
   "outputs": [
    {
     "data": {
      "text/plain": [
       "AdaBoostClassifier(algorithm='SAMME', learning_rate=0.99, n_estimators=20,\n",
       "                   random_state=0)"
      ]
     },
     "execution_count": 246,
     "metadata": {},
     "output_type": "execute_result"
    }
   ],
   "source": [
    "clf.best_estimator_"
   ]
  },
  {
   "cell_type": "code",
   "execution_count": null,
   "id": "f65e6629",
   "metadata": {
    "id": "f65e6629"
   },
   "outputs": [],
   "source": [
    "adaboost_model1 = AdaBoostClassifier(algorithm='SAMME', learning_rate=0.99, n_estimators=20,random_state=0)"
   ]
  },
  {
   "cell_type": "code",
   "execution_count": null,
   "id": "0bbcec47",
   "metadata": {
    "id": "0bbcec47",
    "outputId": "f6b709f7-5453-43b5-f3e4-85d351757476"
   },
   "outputs": [
    {
     "data": {
      "text/plain": [
       "AdaBoostClassifier(algorithm='SAMME', learning_rate=0.99, n_estimators=20,\n",
       "                   random_state=0)"
      ]
     },
     "execution_count": 248,
     "metadata": {},
     "output_type": "execute_result"
    }
   ],
   "source": [
    "adaboost_model1.fit(X_train, y_train)"
   ]
  },
  {
   "cell_type": "code",
   "execution_count": null,
   "id": "49105329",
   "metadata": {
    "id": "49105329"
   },
   "outputs": [],
   "source": [
    "y_pred71 = adaboost_model1.predict(X_test)"
   ]
  },
  {
   "cell_type": "code",
   "execution_count": null,
   "id": "ecfc77ef",
   "metadata": {
    "id": "ecfc77ef",
    "outputId": "dfdc7b39-575f-4eed-97dd-d52e59a74b7e"
   },
   "outputs": [
    {
     "name": "stdout",
     "output_type": "stream",
     "text": [
      "0.8538011695906432\n"
     ]
    }
   ],
   "source": [
    "accuracy71 = accuracy_score(y_test,y_pred71)\n",
    "print(accuracy71)"
   ]
  },
  {
   "cell_type": "code",
   "execution_count": null,
   "id": "21e77199",
   "metadata": {
    "id": "21e77199",
    "outputId": "863879d0-1210-4a31-debb-2f237c4ffaa8"
   },
   "outputs": [
    {
     "name": "stdout",
     "output_type": "stream",
     "text": [
      "0.8756512949474113\n"
     ]
    }
   ],
   "source": [
    "print(precision_score(y_test,y_pred71,average='weighted'))"
   ]
  },
  {
   "cell_type": "code",
   "execution_count": null,
   "id": "da7153d8",
   "metadata": {
    "id": "da7153d8",
    "outputId": "eee0ef2b-ff24-465c-bc5d-afbd27dd3354"
   },
   "outputs": [
    {
     "name": "stdout",
     "output_type": "stream",
     "text": [
      "0.8538011695906432\n"
     ]
    }
   ],
   "source": [
    "print(recall_score(y_test,y_pred71,average='weighted'))"
   ]
  },
  {
   "cell_type": "code",
   "execution_count": null,
   "id": "275e9a85",
   "metadata": {
    "id": "275e9a85",
    "outputId": "21bd97a0-85d3-494c-e747-674edf53ed08"
   },
   "outputs": [
    {
     "name": "stdout",
     "output_type": "stream",
     "text": [
      "0.8505209224010197\n"
     ]
    }
   ],
   "source": [
    "print(f1_score(y_test,y_pred71,average='weighted'))"
   ]
  },
  {
   "cell_type": "code",
   "execution_count": null,
   "id": "b18e4355",
   "metadata": {
    "id": "b18e4355",
    "outputId": "bb5b86dc-e562-42ff-dc4d-6353c9200148"
   },
   "outputs": [
    {
     "name": "stdout",
     "output_type": "stream",
     "text": [
      "[[112  17   0   0]\n",
      " [  5 229   2  13]\n",
      " [  0  63 102   0]\n",
      " [  0   0   0 141]]\n"
     ]
    },
    {
     "data": {
      "image/png": "[encoded data removed]",
      "text/plain": [
       "<Figure size 432x288 with 2 Axes>"
      ]
     },
     "metadata": {
      "needs_background": "light"
     },
     "output_type": "display_data"
    },
    {
     "name": "stdout",
     "output_type": "stream",
     "text": [
      "\n",
      "Classification Report\n",
      "\n",
      "                precision    recall  f1-score   support\n",
      "\n",
      "    Inner Race       0.96      0.87      0.91       129\n",
      "        Normal       0.74      0.92      0.82       249\n",
      "    Outer Race       0.98      0.62      0.76       165\n",
      "Roller Element       0.92      1.00      0.96       141\n",
      "\n",
      "      accuracy                           0.85       684\n",
      "     macro avg       0.90      0.85      0.86       684\n",
      "  weighted avg       0.88      0.85      0.85       684\n",
      "\n"
     ]
    }
   ],
   "source": [
    "cm71 = confusion_matrix(y_test, y_pred71)\n",
    "print(cm71)\n",
    "disp71 = ConfusionMatrixDisplay(confusion_matrix=cm71)\n",
    "disp71.plot()\n",
    "plt.show()\n",
    "print('\\nClassification Report\\n')\n",
    "print(classification_report(y_test, y_pred71))"
   ]
  },
  {
   "cell_type": "markdown",
   "id": "ade5b530",
   "metadata": {
    "id": "ade5b530"
   },
   "source": [
    "### 8.GradientBoosting"
   ]
  },
  {
   "cell_type": "code",
   "execution_count": null,
   "id": "ced7c6b3",
   "metadata": {
    "id": "ced7c6b3"
   },
   "outputs": [],
   "source": [
    "from sklearn.ensemble import GradientBoostingClassifier"
   ]
  },
  {
   "cell_type": "code",
   "execution_count": null,
   "id": "1feff168",
   "metadata": {
    "id": "1feff168"
   },
   "outputs": [],
   "source": [
    "gbc_model = GradientBoostingClassifier(n_estimators=300,\n",
    "                                 learning_rate=0.05,\n",
    "                                 random_state=100,\n",
    "                                 max_features=5 )"
   ]
  },
  {
   "cell_type": "code",
   "execution_count": null,
   "id": "9863a937",
   "metadata": {
    "id": "9863a937",
    "outputId": "a4898290-82ff-463a-a6e3-e7c741bcff45"
   },
   "outputs": [
    {
     "data": {
      "text/plain": [
       "GradientBoostingClassifier(learning_rate=0.05, max_features=5, n_estimators=300,\n",
       "                           random_state=100)"
      ]
     },
     "execution_count": 261,
     "metadata": {},
     "output_type": "execute_result"
    }
   ],
   "source": [
    "gbc_model.fit(X_train, y_train)"
   ]
  },
  {
   "cell_type": "code",
   "execution_count": null,
   "id": "4fa2e9aa",
   "metadata": {
    "id": "4fa2e9aa"
   },
   "outputs": [],
   "source": [
    "y_pred8 = gbc_model.predict(X_test)"
   ]
  },
  {
   "cell_type": "code",
   "execution_count": null,
   "id": "009e3382",
   "metadata": {
    "id": "009e3382"
   },
   "outputs": [],
   "source": [
    "#y_pred8"
   ]
  },
  {
   "cell_type": "code",
   "execution_count": null,
   "id": "72a4ab10",
   "metadata": {
    "id": "72a4ab10",
    "outputId": "28a2fadf-581a-4950-8851-3420755d7879"
   },
   "outputs": [
    {
     "name": "stdout",
     "output_type": "stream",
     "text": [
      "0.9576023391812866\n"
     ]
    }
   ],
   "source": [
    "accuracy8 = accuracy_score(y_test,y_pred8)\n",
    "print(accuracy8)"
   ]
  },
  {
   "cell_type": "code",
   "execution_count": null,
   "id": "008fa749",
   "metadata": {
    "id": "008fa749"
   },
   "outputs": [],
   "source": [
    "parameters_gbc = {\n",
    "    \"n_estimators\":[5,50,250,500],\n",
    "    \"max_depth\":[1,3,5,7,9],\n",
    "    \"learning_rate\":[0.01,0.1,1,10,100]\n",
    "}"
   ]
  },
  {
   "cell_type": "code",
   "execution_count": null,
   "id": "098971ef",
   "metadata": {
    "id": "098971ef"
   },
   "outputs": [],
   "source": [
    "cv = GridSearchCV(gbc_model,parameters_gbc,cv=5)\n"
   ]
  },
  {
   "cell_type": "code",
   "execution_count": null,
   "id": "3012ef94",
   "metadata": {
    "id": "3012ef94",
    "outputId": "541b05c7-d60d-4579-c55b-bf44f8797644"
   },
   "outputs": [
    {
     "data": {
      "text/plain": [
       "GridSearchCV(cv=5,\n",
       "             estimator=GradientBoostingClassifier(learning_rate=0.05,\n",
       "                                                  max_features=5,\n",
       "                                                  n_estimators=300,\n",
       "                                                  random_state=100),\n",
       "             param_grid={'learning_rate': [0.01, 0.1, 1, 10, 100],\n",
       "                         'max_depth': [1, 3, 5, 7, 9],\n",
       "                         'n_estimators': [5, 50, 250, 500]})"
      ]
     },
     "execution_count": 271,
     "metadata": {},
     "output_type": "execute_result"
    }
   ],
   "source": [
    "cv.fit(X_train, y_train)"
   ]
  },
  {
   "cell_type": "code",
   "execution_count": null,
   "id": "79e6afd0",
   "metadata": {
    "id": "79e6afd0",
    "outputId": "8b66da54-a738-401d-c229-ef9ef86c3593"
   },
   "outputs": [
    {
     "data": {
      "text/plain": [
       "GradientBoostingClassifier(max_depth=9, max_features=5, n_estimators=250,\n",
       "                           random_state=100)"
      ]
     },
     "execution_count": 272,
     "metadata": {},
     "output_type": "execute_result"
    }
   ],
   "source": [
    "cv.best_estimator_"
   ]
  },
  {
   "cell_type": "code",
   "execution_count": null,
   "id": "b9ac2ac7",
   "metadata": {
    "id": "b9ac2ac7"
   },
   "outputs": [],
   "source": [
    "gbc_model1 = GradientBoostingClassifier(max_depth=9, max_features=5, n_estimators=250,random_state=100)"
   ]
  },
  {
   "cell_type": "code",
   "execution_count": null,
   "id": "259073ce",
   "metadata": {
    "id": "259073ce",
    "outputId": "579aa581-dae7-45bb-8fb9-27eb7f930685"
   },
   "outputs": [
    {
     "data": {
      "text/plain": [
       "GradientBoostingClassifier(max_depth=9, max_features=5, n_estimators=250,\n",
       "                           random_state=100)"
      ]
     },
     "execution_count": 274,
     "metadata": {},
     "output_type": "execute_result"
    }
   ],
   "source": [
    "gbc_model1.fit(X_train, y_train)"
   ]
  },
  {
   "cell_type": "code",
   "execution_count": null,
   "id": "00d25a4e",
   "metadata": {
    "id": "00d25a4e"
   },
   "outputs": [],
   "source": [
    "y_pred81 = gbc_model1.predict(X_test)"
   ]
  },
  {
   "cell_type": "code",
   "execution_count": null,
   "id": "6d48e887",
   "metadata": {
    "id": "6d48e887"
   },
   "outputs": [],
   "source": [
    "#y_pred81"
   ]
  },
  {
   "cell_type": "code",
   "execution_count": null,
   "id": "a38a64ce",
   "metadata": {
    "id": "a38a64ce",
    "outputId": "87c8d012-ebba-4e0c-b531-f97726d30c4d"
   },
   "outputs": [
    {
     "name": "stdout",
     "output_type": "stream",
     "text": [
      "0.9605263157894737\n"
     ]
    }
   ],
   "source": [
    "accuracy81 = accuracy_score(y_test,y_pred81)\n",
    "print(accuracy81)"
   ]
  },
  {
   "cell_type": "code",
   "execution_count": null,
   "id": "29343343",
   "metadata": {
    "id": "29343343",
    "outputId": "d45708dd-bce9-4faa-8cba-4716d8914172",
    "scrolled": true
   },
   "outputs": [
    {
     "name": "stdout",
     "output_type": "stream",
     "text": [
      "0.9614881511341905\n"
     ]
    }
   ],
   "source": [
    "print(precision_score(y_test,y_pred81,average='weighted'))"
   ]
  },
  {
   "cell_type": "code",
   "execution_count": null,
   "id": "71808cd6",
   "metadata": {
    "id": "71808cd6",
    "outputId": "2adcd3f8-63c1-4ced-ae48-d0c1fbb6f72b"
   },
   "outputs": [
    {
     "name": "stdout",
     "output_type": "stream",
     "text": [
      "0.9605263157894737\n"
     ]
    }
   ],
   "source": [
    "print(recall_score(y_test,y_pred81,average='weighted'))"
   ]
  },
  {
   "cell_type": "code",
   "execution_count": null,
   "id": "9c0ec262",
   "metadata": {
    "id": "9c0ec262",
    "outputId": "de60ec1f-c8b7-4b5a-ca03-0ecca4078734"
   },
   "outputs": [
    {
     "name": "stdout",
     "output_type": "stream",
     "text": [
      "0.9603567542812279\n"
     ]
    }
   ],
   "source": [
    "print(f1_score(y_test,y_pred81,average='weighted'))"
   ]
  },
  {
   "cell_type": "code",
   "execution_count": null,
   "id": "378a8513",
   "metadata": {
    "id": "378a8513",
    "outputId": "dc527ba1-e8e0-4d07-a5fe-d894b6c184cd"
   },
   "outputs": [
    {
     "name": "stdout",
     "output_type": "stream",
     "text": [
      "[[126   3   0   0]\n",
      " [ 10 228   2   9]\n",
      " [  0   3 162   0]\n",
      " [  0   0   0 141]]\n"
     ]
    },
    {
     "data": {
      "image/png": "[encoded data removed]",
      "text/plain": [
       "<Figure size 432x288 with 2 Axes>"
      ]
     },
     "metadata": {
      "needs_background": "light"
     },
     "output_type": "display_data"
    },
    {
     "name": "stdout",
     "output_type": "stream",
     "text": [
      "\n",
      "Classification Report\n",
      "\n",
      "                precision    recall  f1-score   support\n",
      "\n",
      "    Inner Race       0.93      0.98      0.95       129\n",
      "        Normal       0.97      0.92      0.94       249\n",
      "    Outer Race       0.99      0.98      0.98       165\n",
      "Roller Element       0.94      1.00      0.97       141\n",
      "\n",
      "      accuracy                           0.96       684\n",
      "     macro avg       0.96      0.97      0.96       684\n",
      "  weighted avg       0.96      0.96      0.96       684\n",
      "\n"
     ]
    }
   ],
   "source": [
    "cm81 = confusion_matrix(y_test, y_pred81)\n",
    "print(cm81)\n",
    "disp81 = ConfusionMatrixDisplay(confusion_matrix=cm81)\n",
    "disp81.plot()\n",
    "plt.show()\n",
    "print('\\nClassification Report\\n')\n",
    "print(classification_report(y_test, y_pred81))"
   ]
  },
  {
   "cell_type": "markdown",
   "id": "b6fb4b2a",
   "metadata": {
    "id": "b6fb4b2a"
   },
   "source": [
    "### 9.LightBGM"
   ]
  },
  {
   "cell_type": "code",
   "execution_count": null,
   "id": "0e6f3cf6",
   "metadata": {
    "id": "0e6f3cf6"
   },
   "outputs": [],
   "source": [
    "import lightgbm as lgb"
   ]
  },
  {
   "cell_type": "code",
   "execution_count": null,
   "id": "654dede4",
   "metadata": {
    "id": "654dede4"
   },
   "outputs": [],
   "source": [
    "lgb_model = lgb.LGBMClassifier()"
   ]
  },
  {
   "cell_type": "code",
   "execution_count": null,
   "id": "3ab3fbc9",
   "metadata": {
    "id": "3ab3fbc9",
    "outputId": "b09a750f-e76d-4ecb-ff94-89662e342ffb"
   },
   "outputs": [
    {
     "data": {
      "text/plain": [
       "LGBMClassifier()"
      ]
     },
     "execution_count": 296,
     "metadata": {},
     "output_type": "execute_result"
    }
   ],
   "source": [
    "lgb_model.fit(X_train, y_train)"
   ]
  },
  {
   "cell_type": "code",
   "execution_count": null,
   "id": "3ca962f6",
   "metadata": {
    "id": "3ca962f6"
   },
   "outputs": [],
   "source": [
    "y_pred9 = lgb_model.predict(X_test)"
   ]
  },
  {
   "cell_type": "code",
   "execution_count": null,
   "id": "89292f58",
   "metadata": {
    "id": "89292f58"
   },
   "outputs": [],
   "source": [
    "#y_pred9"
   ]
  },
  {
   "cell_type": "code",
   "execution_count": null,
   "id": "e55b9385",
   "metadata": {
    "id": "e55b9385",
    "outputId": "74448fd0-2749-46af-a202-9d5f09031b17"
   },
   "outputs": [
    {
     "name": "stdout",
     "output_type": "stream",
     "text": [
      "0.9517543859649122\n"
     ]
    }
   ],
   "source": [
    "accuracy9 = accuracy_score(y_test,y_pred9)\n",
    "print(accuracy9)"
   ]
  },
  {
   "cell_type": "code",
   "execution_count": null,
   "id": "08d523d0",
   "metadata": {
    "id": "08d523d0"
   },
   "outputs": [],
   "source": [
    "param_grid_lgb = {'learning_rate': [0.1, 0.01],'n_estimators': [50, 100, 150], 'max_depth': [4, 6],'colsample_bytree': [0.7, 0.8, 0.9],'subsample': [0.7, 0.8, 0.9],'min_child_samples': [1, 5, 10] }"
   ]
  },
  {
   "cell_type": "code",
   "execution_count": null,
   "id": "58661973",
   "metadata": {
    "id": "58661973"
   },
   "outputs": [],
   "source": [
    "estimator = lgb.LGBMClassifier(objective='multiclass', random_state=101)"
   ]
  },
  {
   "cell_type": "code",
   "execution_count": null,
   "id": "34164e45",
   "metadata": {
    "id": "34164e45"
   },
   "outputs": [],
   "source": [
    "model = GridSearchCV(estimator=estimator, param_grid=param_grid,cv=3, n_jobs=-1, scoring='accuracy')"
   ]
  },
  {
   "cell_type": "code",
   "execution_count": null,
   "id": "c18f01c4",
   "metadata": {
    "id": "c18f01c4",
    "outputId": "86598b2a-4740-47f1-e504-594ae7ae2539"
   },
   "outputs": [
    {
     "data": {
      "text/plain": [
       "GridSearchCV(cv=3,\n",
       "             estimator=LGBMClassifier(objective='multiclass', random_state=101),\n",
       "             n_jobs=-1,\n",
       "             param_grid={'max_depth': [3, 6, 9],\n",
       "                         'max_features': ['sqrt', 'log2', None],\n",
       "                         'max_leaf_nodes': [3, 6, 9],\n",
       "                         'n_estimators': [25, 50, 100, 150]},\n",
       "             scoring='accuracy')"
      ]
     },
     "execution_count": 309,
     "metadata": {},
     "output_type": "execute_result"
    }
   ],
   "source": [
    "model.fit(X_train, y_train)"
   ]
  },
  {
   "cell_type": "code",
   "execution_count": null,
   "id": "a3ed4a5c",
   "metadata": {
    "id": "a3ed4a5c",
    "outputId": "cb8bf28b-9eee-4148-d874-f7a1e78b5fb3"
   },
   "outputs": [
    {
     "name": "stdout",
     "output_type": "stream",
     "text": [
      "LGBMClassifier(max_depth=3, max_features='sqrt', max_leaf_nodes=3,\n",
      "               n_estimators=50, objective='multiclass', random_state=101)\n"
     ]
    }
   ],
   "source": [
    "best_params = model.best_estimator_\n",
    "print(best_params)"
   ]
  },
  {
   "cell_type": "code",
   "execution_count": null,
   "id": "56fe0c94",
   "metadata": {
    "id": "56fe0c94"
   },
   "outputs": [],
   "source": [
    "lgb_model1 = lgb.LGBMClassifier(max_depth=3, max_features='sqrt', max_leaf_nodes=3,n_estimators=50, objective='multiclass', random_state=101)"
   ]
  },
  {
   "cell_type": "code",
   "execution_count": null,
   "id": "b5db33f2",
   "metadata": {
    "id": "b5db33f2",
    "outputId": "2264d39e-d00f-413d-841e-de2c9eed6093"
   },
   "outputs": [
    {
     "data": {
      "text/plain": [
       "LGBMClassifier(max_depth=3, max_features='sqrt', max_leaf_nodes=3,\n",
       "               n_estimators=50, objective='multiclass', random_state=101)"
      ]
     },
     "execution_count": 312,
     "metadata": {},
     "output_type": "execute_result"
    }
   ],
   "source": [
    "lgb_model1.fit(X_train, y_train)"
   ]
  },
  {
   "cell_type": "code",
   "execution_count": null,
   "id": "d193dfd8",
   "metadata": {
    "id": "d193dfd8"
   },
   "outputs": [],
   "source": [
    "y_pred91 = lgb_model1.predict(X_test)"
   ]
  },
  {
   "cell_type": "code",
   "execution_count": null,
   "id": "a378a9a1",
   "metadata": {
    "id": "a378a9a1"
   },
   "outputs": [],
   "source": [
    "#y_pred91"
   ]
  },
  {
   "cell_type": "code",
   "execution_count": null,
   "id": "fd09aec5",
   "metadata": {
    "id": "fd09aec5",
    "outputId": "65f50271-2c57-4110-ea07-ac5ca1e871d2"
   },
   "outputs": [
    {
     "name": "stdout",
     "output_type": "stream",
     "text": [
      "0.956140350877193\n"
     ]
    }
   ],
   "source": [
    "accuracy91 = accuracy_score(y_test,y_pred91)\n",
    "print(accuracy91)"
   ]
  },
  {
   "cell_type": "code",
   "execution_count": null,
   "id": "2b82081a",
   "metadata": {
    "id": "2b82081a",
    "outputId": "eb425af3-6406-4cfb-cb09-62b9f2a8d67b"
   },
   "outputs": [
    {
     "name": "stdout",
     "output_type": "stream",
     "text": [
      "0.9570391377272713\n"
     ]
    }
   ],
   "source": [
    "print(precision_score(y_test,y_pred91,average='weighted'))"
   ]
  },
  {
   "cell_type": "code",
   "execution_count": null,
   "id": "9d7a738d",
   "metadata": {
    "id": "9d7a738d",
    "outputId": "527a2163-6269-42da-d3c7-fb72e0a4e23f"
   },
   "outputs": [
    {
     "name": "stdout",
     "output_type": "stream",
     "text": [
      "0.956140350877193\n"
     ]
    }
   ],
   "source": [
    "print(recall_score(y_test,y_pred91,average='weighted'))"
   ]
  },
  {
   "cell_type": "code",
   "execution_count": null,
   "id": "8e0b6966",
   "metadata": {
    "id": "8e0b6966",
    "outputId": "01ed9f8c-3fc4-48c5-9d30-5084c5301c37"
   },
   "outputs": [
    {
     "name": "stdout",
     "output_type": "stream",
     "text": [
      "0.95592730592104\n"
     ]
    }
   ],
   "source": [
    "print(f1_score(y_test,y_pred91,average='weighted'))"
   ]
  },
  {
   "cell_type": "code",
   "execution_count": null,
   "id": "895303ff",
   "metadata": {
    "id": "895303ff",
    "outputId": "6f6c69fc-25bf-4a07-b842-e7c802d2fe9a"
   },
   "outputs": [
    {
     "name": "stdout",
     "output_type": "stream",
     "text": [
      "[[127   2   0   0]\n",
      " [ 11 227   3   8]\n",
      " [  0   6 159   0]\n",
      " [  0   0   0 141]]\n"
     ]
    },
    {
     "data": {
      "image/png": "[encoded data removed]",
      "text/plain": [
       "<Figure size 432x288 with 2 Axes>"
      ]
     },
     "metadata": {
      "needs_background": "light"
     },
     "output_type": "display_data"
    },
    {
     "name": "stdout",
     "output_type": "stream",
     "text": [
      "\n",
      "Classification Report\n",
      "\n",
      "                precision    recall  f1-score   support\n",
      "\n",
      "    Inner Race       0.92      0.98      0.95       129\n",
      "        Normal       0.97      0.91      0.94       249\n",
      "    Outer Race       0.98      0.96      0.97       165\n",
      "Roller Element       0.95      1.00      0.97       141\n",
      "\n",
      "      accuracy                           0.96       684\n",
      "     macro avg       0.95      0.96      0.96       684\n",
      "  weighted avg       0.96      0.96      0.96       684\n",
      "\n"
     ]
    }
   ],
   "source": [
    "cm91 = confusion_matrix(y_test, y_pred91)\n",
    "print(cm91)\n",
    "disp91 = ConfusionMatrixDisplay(confusion_matrix=cm91)\n",
    "disp91.plot()\n",
    "plt.show()\n",
    "print('\\nClassification Report\\n')\n",
    "print(classification_report(y_test, y_pred91))"
   ]
  },
  {
   "cell_type": "markdown",
   "id": "3d34a186",
   "metadata": {
    "id": "3d34a186"
   },
   "source": [
    "### CATBOOST"
   ]
  },
  {
   "cell_type": "code",
   "execution_count": null,
   "id": "ca8d1ad3",
   "metadata": {
    "id": "ca8d1ad3"
   },
   "outputs": [],
   "source": [
    "from catboost import CatBoostClassifier"
   ]
  },
  {
   "cell_type": "code",
   "execution_count": null,
   "id": "850ff6cf",
   "metadata": {
    "id": "850ff6cf"
   },
   "outputs": [],
   "source": [
    "catboost_model = CatBoostClassifier(iterations=50, learning_rate=0.1)"
   ]
  },
  {
   "cell_type": "code",
   "execution_count": null,
   "id": "462904dd",
   "metadata": {
    "id": "462904dd",
    "outputId": "2c950868-cce7-49e1-fbe8-4de14e0917fa"
   },
   "outputs": [
    {
     "name": "stdout",
     "output_type": "stream",
     "text": [
      "0:\tlearn: 1.1968730\ttotal: 141ms\tremaining: 6.92s\n",
      "1:\tlearn: 1.0494105\ttotal: 145ms\tremaining: 3.49s\n",
      "2:\tlearn: 0.9316877\ttotal: 150ms\tremaining: 2.34s\n",
      "3:\tlearn: 0.8388970\ttotal: 153ms\tremaining: 1.76s\n",
      "4:\tlearn: 0.7608682\ttotal: 158ms\tremaining: 1.42s\n",
      "5:\tlearn: 0.6908175\ttotal: 161ms\tremaining: 1.18s\n",
      "6:\tlearn: 0.6386266\ttotal: 166ms\tremaining: 1.02s\n",
      "7:\tlearn: 0.5927559\ttotal: 169ms\tremaining: 890ms\n",
      "8:\tlearn: 0.5479555\ttotal: 173ms\tremaining: 790ms\n",
      "9:\tlearn: 0.5094348\ttotal: 177ms\tremaining: 710ms\n",
      "10:\tlearn: 0.4786260\ttotal: 182ms\tremaining: 644ms\n",
      "11:\tlearn: 0.4500846\ttotal: 186ms\tremaining: 588ms\n",
      "12:\tlearn: 0.4229406\ttotal: 190ms\tremaining: 541ms\n",
      "13:\tlearn: 0.3965805\ttotal: 194ms\tremaining: 499ms\n",
      "14:\tlearn: 0.3749731\ttotal: 199ms\tremaining: 463ms\n",
      "15:\tlearn: 0.3543114\ttotal: 203ms\tremaining: 432ms\n",
      "16:\tlearn: 0.3382697\ttotal: 208ms\tremaining: 403ms\n",
      "17:\tlearn: 0.3237902\ttotal: 212ms\tremaining: 377ms\n",
      "18:\tlearn: 0.3105493\ttotal: 216ms\tremaining: 352ms\n",
      "19:\tlearn: 0.2969895\ttotal: 220ms\tremaining: 330ms\n",
      "20:\tlearn: 0.2844391\ttotal: 224ms\tremaining: 310ms\n",
      "21:\tlearn: 0.2742819\ttotal: 228ms\tremaining: 291ms\n",
      "22:\tlearn: 0.2650873\ttotal: 233ms\tremaining: 273ms\n",
      "23:\tlearn: 0.2563654\ttotal: 237ms\tremaining: 256ms\n",
      "24:\tlearn: 0.2481145\ttotal: 241ms\tremaining: 241ms\n",
      "25:\tlearn: 0.2413272\ttotal: 245ms\tremaining: 227ms\n",
      "26:\tlearn: 0.2339222\ttotal: 250ms\tremaining: 213ms\n",
      "27:\tlearn: 0.2279953\ttotal: 254ms\tremaining: 199ms\n",
      "28:\tlearn: 0.2223158\ttotal: 258ms\tremaining: 187ms\n",
      "29:\tlearn: 0.2171954\ttotal: 262ms\tremaining: 175ms\n",
      "30:\tlearn: 0.2121215\ttotal: 266ms\tremaining: 163ms\n",
      "31:\tlearn: 0.2064698\ttotal: 270ms\tremaining: 152ms\n",
      "32:\tlearn: 0.2028233\ttotal: 274ms\tremaining: 141ms\n",
      "33:\tlearn: 0.1981824\ttotal: 278ms\tremaining: 131ms\n",
      "34:\tlearn: 0.1943178\ttotal: 283ms\tremaining: 121ms\n",
      "35:\tlearn: 0.1890496\ttotal: 288ms\tremaining: 112ms\n",
      "36:\tlearn: 0.1862763\ttotal: 293ms\tremaining: 103ms\n",
      "37:\tlearn: 0.1833950\ttotal: 296ms\tremaining: 93.6ms\n",
      "38:\tlearn: 0.1812654\ttotal: 301ms\tremaining: 84.8ms\n",
      "39:\tlearn: 0.1778257\ttotal: 305ms\tremaining: 76.2ms\n",
      "40:\tlearn: 0.1744240\ttotal: 311ms\tremaining: 68.2ms\n",
      "41:\tlearn: 0.1716705\ttotal: 318ms\tremaining: 60.6ms\n",
      "42:\tlearn: 0.1694540\ttotal: 324ms\tremaining: 52.8ms\n",
      "43:\tlearn: 0.1675942\ttotal: 331ms\tremaining: 45.1ms\n",
      "44:\tlearn: 0.1658226\ttotal: 338ms\tremaining: 37.6ms\n",
      "45:\tlearn: 0.1637028\ttotal: 343ms\tremaining: 29.8ms\n",
      "46:\tlearn: 0.1619591\ttotal: 348ms\tremaining: 22.2ms\n",
      "47:\tlearn: 0.1596632\ttotal: 353ms\tremaining: 14.7ms\n",
      "48:\tlearn: 0.1580960\ttotal: 357ms\tremaining: 7.28ms\n",
      "49:\tlearn: 0.1563862\ttotal: 361ms\tremaining: 0us\n"
     ]
    },
    {
     "data": {
      "text/plain": [
       "<catboost.core.CatBoostClassifier at 0x255ba9d7820>"
      ]
     },
     "execution_count": 327,
     "metadata": {},
     "output_type": "execute_result"
    }
   ],
   "source": [
    "catboost_model.fit(X_train, y_train)"
   ]
  },
  {
   "cell_type": "code",
   "execution_count": null,
   "id": "3d370b81",
   "metadata": {
    "id": "3d370b81"
   },
   "outputs": [],
   "source": [
    "y_pred10 = catboost_model.predict(X_test)"
   ]
  },
  {
   "cell_type": "code",
   "execution_count": null,
   "id": "d920b8ba",
   "metadata": {
    "id": "d920b8ba"
   },
   "outputs": [],
   "source": [
    "#y_pred10"
   ]
  },
  {
   "cell_type": "code",
   "execution_count": null,
   "id": "af0caf2c",
   "metadata": {
    "id": "af0caf2c",
    "outputId": "36be11da-4d2c-42e3-9518-2f76003eb4a7"
   },
   "outputs": [
    {
     "name": "stdout",
     "output_type": "stream",
     "text": [
      "0.9517543859649122\n"
     ]
    }
   ],
   "source": [
    "accuracy10 = accuracy_score(y_test,y_pred10)\n",
    "print(accuracy10)"
   ]
  },
  {
   "cell_type": "code",
   "execution_count": null,
   "id": "740b4d8e",
   "metadata": {
    "id": "740b4d8e",
    "outputId": "0222379f-7784-4cdb-ce41-03d972ba40c4"
   },
   "outputs": [
    {
     "name": "stdout",
     "output_type": "stream",
     "text": [
      "0.9524760472534821\n"
     ]
    }
   ],
   "source": [
    "print(precision_score(y_test,y_pred10,average='weighted'))"
   ]
  },
  {
   "cell_type": "code",
   "execution_count": null,
   "id": "144c5833",
   "metadata": {
    "id": "144c5833",
    "outputId": "38257e2c-31fe-4976-a1d9-f9ab249b2480"
   },
   "outputs": [
    {
     "name": "stdout",
     "output_type": "stream",
     "text": [
      "0.9517543859649122\n"
     ]
    }
   ],
   "source": [
    "print(recall_score(y_test,y_pred10,average='weighted'))"
   ]
  },
  {
   "cell_type": "code",
   "execution_count": null,
   "id": "feab85ef",
   "metadata": {
    "id": "feab85ef",
    "outputId": "e9714491-fdd6-4c2a-9021-ec57b987da56"
   },
   "outputs": [
    {
     "name": "stdout",
     "output_type": "stream",
     "text": [
      "0.95592730592104\n"
     ]
    }
   ],
   "source": [
    "print(f1_score(y_test,y_pred91,average='weighted'))"
   ]
  },
  {
   "cell_type": "code",
   "execution_count": null,
   "id": "1782ff30",
   "metadata": {
    "id": "1782ff30",
    "outputId": "b740805f-684d-461d-ab85-8b1046bd2da5",
    "scrolled": true
   },
   "outputs": [
    {
     "name": "stdout",
     "output_type": "stream",
     "text": [
      "[[127   2   0   0]\n",
      " [ 11 227   3   8]\n",
      " [  0   8 157   0]\n",
      " [  0   1   0 140]]\n"
     ]
    },
    {
     "data": {
      "image/png": "[encoded data removed]",
      "text/plain": [
       "<Figure size 432x288 with 2 Axes>"
      ]
     },
     "metadata": {
      "needs_background": "light"
     },
     "output_type": "display_data"
    },
    {
     "name": "stdout",
     "output_type": "stream",
     "text": [
      "\n",
      "Classification Report\n",
      "\n",
      "                precision    recall  f1-score   support\n",
      "\n",
      "    Inner Race       0.92      0.98      0.95       129\n",
      "        Normal       0.95      0.91      0.93       249\n",
      "    Outer Race       0.98      0.95      0.97       165\n",
      "Roller Element       0.95      0.99      0.97       141\n",
      "\n",
      "      accuracy                           0.95       684\n",
      "     macro avg       0.95      0.96      0.95       684\n",
      "  weighted avg       0.95      0.95      0.95       684\n",
      "\n"
     ]
    }
   ],
   "source": [
    "cm10 = confusion_matrix(y_test, y_pred10)\n",
    "print(cm10)\n",
    "disp10 = ConfusionMatrixDisplay(confusion_matrix=cm10)\n",
    "disp10.plot()\n",
    "plt.show()\n",
    "print('\\nClassification Report\\n')\n",
    "print(classification_report(y_test, y_pred10))"
   ]
  },
  {
   "cell_type": "code",
   "execution_count": null,
   "id": "21c6549a",
   "metadata": {
    "id": "21c6549a"
   },
   "outputs": [],
   "source": []
  },
  {
   "cell_type": "code",
   "execution_count": null,
   "id": "8eff0cf0",
   "metadata": {
    "id": "8eff0cf0"
   },
   "outputs": [],
   "source": []
  },
  {
   "cell_type": "code",
   "execution_count": null,
   "id": "7d450b9c",
   "metadata": {
    "id": "7d450b9c"
   },
   "outputs": [],
   "source": []
  },
  {
   "cell_type": "code",
   "execution_count": null,
   "id": "08a53bf5",
   "metadata": {
    "id": "08a53bf5"
   },
   "outputs": [],
   "source": []
  },
  {
   "cell_type": "code",
   "execution_count": null,
   "id": "e6a4ae89",
   "metadata": {
    "id": "e6a4ae89"
   },
   "outputs": [],
   "source": [
    "grid_catboost = {'max_depth': [3,4,5],'n_estimators':[100, 200, 300]}"
   ]
  },
  {
   "cell_type": "code",
   "execution_count": null,
   "id": "1cc87448",
   "metadata": {
    "id": "1cc87448",
    "outputId": "17fc3136-00da-4145-ad88-470dc3811c03"
   },
   "outputs": [
    {
     "ename": "TypeError",
     "evalue": "'GridSearchCV' object is not iterable",
     "output_type": "error",
     "traceback": [
      "\u001b[1;31m---------------------------------------------------------------------------\u001b[0m",
      "\u001b[1;31mTypeError\u001b[0m                                 Traceback (most recent call last)",
      "Input \u001b[1;32mIn [335]\u001b[0m, in \u001b[0;36m<cell line: 1>\u001b[1;34m()\u001b[0m\n\u001b[1;32m----> 1\u001b[0m gscv \u001b[38;5;241m=\u001b[39m \u001b[43mGridSearchCV\u001b[49m\u001b[43m \u001b[49m\u001b[43m(\u001b[49m\u001b[43mestimator\u001b[49m\u001b[43m \u001b[49m\u001b[38;5;241;43m=\u001b[39;49m\u001b[43m \u001b[49m\u001b[43mCatBoostClassifier\u001b[49m\u001b[43m(\u001b[49m\u001b[43m)\u001b[49m\u001b[43m,\u001b[49m\u001b[43m \u001b[49m\u001b[43mparam_grid\u001b[49m\u001b[43m \u001b[49m\u001b[38;5;241;43m=\u001b[39;49m\u001b[43m \u001b[49m\u001b[43mgrid\u001b[49m\u001b[43m,\u001b[49m\u001b[43m \u001b[49m\u001b[43mscoring\u001b[49m\u001b[43m \u001b[49m\u001b[38;5;241;43m=\u001b[39;49m\u001b[38;5;124;43m'\u001b[39;49m\u001b[38;5;124;43maccuracy\u001b[39;49m\u001b[38;5;124;43m'\u001b[39;49m\u001b[43m,\u001b[49m\u001b[43m \u001b[49m\u001b[43mcv\u001b[49m\u001b[43m \u001b[49m\u001b[38;5;241;43m=\u001b[39;49m\u001b[43m \u001b[49m\u001b[38;5;241;43m5\u001b[39;49m\u001b[43m)\u001b[49m\n",
      "File \u001b[1;32m~\\Anaconda3\\lib\\site-packages\\sklearn\\model_selection\\_search.py:1388\u001b[0m, in \u001b[0;36mGridSearchCV.__init__\u001b[1;34m(self, estimator, param_grid, scoring, n_jobs, refit, cv, verbose, pre_dispatch, error_score, return_train_score)\u001b[0m\n\u001b[0;32m   1376\u001b[0m \u001b[38;5;28msuper\u001b[39m()\u001b[38;5;241m.\u001b[39m\u001b[38;5;21m__init__\u001b[39m(\n\u001b[0;32m   1377\u001b[0m     estimator\u001b[38;5;241m=\u001b[39mestimator,\n\u001b[0;32m   1378\u001b[0m     scoring\u001b[38;5;241m=\u001b[39mscoring,\n\u001b[1;32m   (...)\u001b[0m\n\u001b[0;32m   1385\u001b[0m     return_train_score\u001b[38;5;241m=\u001b[39mreturn_train_score,\n\u001b[0;32m   1386\u001b[0m )\n\u001b[0;32m   1387\u001b[0m \u001b[38;5;28mself\u001b[39m\u001b[38;5;241m.\u001b[39mparam_grid \u001b[38;5;241m=\u001b[39m param_grid\n\u001b[1;32m-> 1388\u001b[0m \u001b[43m_check_param_grid\u001b[49m\u001b[43m(\u001b[49m\u001b[43mparam_grid\u001b[49m\u001b[43m)\u001b[49m\n",
      "File \u001b[1;32m~\\Anaconda3\\lib\\site-packages\\sklearn\\model_selection\\_search.py:328\u001b[0m, in \u001b[0;36m_check_param_grid\u001b[1;34m(param_grid)\u001b[0m\n\u001b[0;32m    325\u001b[0m \u001b[38;5;28;01mif\u001b[39;00m \u001b[38;5;28mhasattr\u001b[39m(param_grid, \u001b[38;5;124m\"\u001b[39m\u001b[38;5;124mitems\u001b[39m\u001b[38;5;124m\"\u001b[39m):\n\u001b[0;32m    326\u001b[0m     param_grid \u001b[38;5;241m=\u001b[39m [param_grid]\n\u001b[1;32m--> 328\u001b[0m \u001b[38;5;28;01mfor\u001b[39;00m p \u001b[38;5;129;01min\u001b[39;00m param_grid:\n\u001b[0;32m    329\u001b[0m     \u001b[38;5;28;01mfor\u001b[39;00m name, v \u001b[38;5;129;01min\u001b[39;00m p\u001b[38;5;241m.\u001b[39mitems():\n\u001b[0;32m    330\u001b[0m         \u001b[38;5;28;01mif\u001b[39;00m \u001b[38;5;28misinstance\u001b[39m(v, np\u001b[38;5;241m.\u001b[39mndarray) \u001b[38;5;129;01mand\u001b[39;00m v\u001b[38;5;241m.\u001b[39mndim \u001b[38;5;241m>\u001b[39m \u001b[38;5;241m1\u001b[39m:\n",
      "\u001b[1;31mTypeError\u001b[0m: 'GridSearchCV' object is not iterable"
     ]
    }
   ],
   "source": [
    "gscv = GridSearchCV (estimator = CatBoostClassifier(), param_grid = grid, scoring ='accuracy', cv = 5)"
   ]
  },
  {
   "cell_type": "code",
   "execution_count": null,
   "id": "1f58a780",
   "metadata": {
    "id": "1f58a780"
   },
   "outputs": [],
   "source": []
  }
 ],
 "metadata": {
  "colab": {
   "provenance": []
  },
  "kernelspec": {
   "display_name": "Python 3 (ipykernel)",
   "language": "python",
   "name": "python3"
  },
  "language_info": {
   "codemirror_mode": {
    "name": "ipython",
    "version": 3
   },
   "file_extension": ".py",
   "mimetype": "text/x-python",
   "name": "python",
   "nbconvert_exporter": "python",
   "pygments_lexer": "ipython3",
   "version": "3.9.12"
  }
 },
 "nbformat": 4,
 "nbformat_minor": 5
}
