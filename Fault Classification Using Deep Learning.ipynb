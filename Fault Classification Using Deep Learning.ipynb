{
 "cells": [
  {
   "cell_type": "code",
   "execution_count": null,
   "id": "e125fabc",
   "metadata": {
    "id": "e125fabc"
   },
   "outputs": [],
   "source": [
    "import matplotlib.pyplot as plt\n",
    "import numpy as np\n",
    "import pandas as pd\n",
    "import seaborn as sns"
   ]
  },
  {
   "cell_type": "code",
   "execution_count": null,
   "id": "85d9cae7",
   "metadata": {
    "id": "85d9cae7"
   },
   "outputs": [],
   "source": [
    "import pandas as pd\n",
    "import numpy as np\n",
    "from sklearn.preprocessing import StandardScaler, LabelEncoder, OneHotEncoder\n",
    "from tensorflow.keras.models import Sequential\n",
    "from tensorflow.keras.layers import Dense, Dropout\n",
    "from tensorflow.keras.optimizers import Adam"
   ]
  },
  {
   "cell_type": "code",
   "execution_count": null,
   "id": "9e6141d8",
   "metadata": {
    "id": "9e6141d8"
   },
   "outputs": [],
   "source": [
    "df1=pd.read_csv('Normal_Bearing.csv')\n",
    "df2=pd.read_csv('outer_race_fault_test_2.csv')\n",
    "df3=pd.read_csv('outer_race_fault_test_3.csv')\n",
    "df4=pd.read_csv('inner_race_fault.csv')\n",
    "df5=pd.read_csv('roller_element_fault.csv')"
   ]
  },
  {
   "cell_type": "code",
   "execution_count": null,
   "id": "e4b20112",
   "metadata": {
    "id": "e4b20112",
    "outputId": "9b351ff6-2a27-4db2-d538-0fa358b9bbe9"
   },
   "outputs": [
    {
     "data": {
      "text/html": [
       "<div>\n",
       "<style scoped>\n",
       "    .dataframe tbody tr th:only-of-type {\n",
       "        vertical-align: middle;\n",
       "    }\n",
       "\n",
       "    .dataframe tbody tr th {\n",
       "        vertical-align: top;\n",
       "    }\n",
       "\n",
       "    .dataframe thead th {\n",
       "        text-align: right;\n",
       "    }\n",
       "</style>\n",
       "<table border=\"1\" class=\"dataframe\">\n",
       "  <thead>\n",
       "    <tr style=\"text-align: right;\">\n",
       "      <th></th>\n",
       "      <th>Max</th>\n",
       "      <th>Min</th>\n",
       "      <th>Mean</th>\n",
       "      <th>Std</th>\n",
       "      <th>RMS</th>\n",
       "      <th>Skewness</th>\n",
       "      <th>Kurtosis</th>\n",
       "      <th>Crest Factor</th>\n",
       "      <th>Form Factor</th>\n",
       "      <th>Fault</th>\n",
       "    </tr>\n",
       "  </thead>\n",
       "  <tbody>\n",
       "    <tr>\n",
       "      <th>0</th>\n",
       "      <td>0.398</td>\n",
       "      <td>-0.625</td>\n",
       "      <td>-0.117085</td>\n",
       "      <td>0.093069</td>\n",
       "      <td>0.149567</td>\n",
       "      <td>-0.012753</td>\n",
       "      <td>0.931376</td>\n",
       "      <td>2.661008</td>\n",
       "      <td>-1.277421</td>\n",
       "      <td>Normal</td>\n",
       "    </tr>\n",
       "    <tr>\n",
       "      <th>1</th>\n",
       "      <td>0.422</td>\n",
       "      <td>-0.657</td>\n",
       "      <td>-0.117744</td>\n",
       "      <td>0.093095</td>\n",
       "      <td>0.150100</td>\n",
       "      <td>-0.033307</td>\n",
       "      <td>0.876667</td>\n",
       "      <td>2.811460</td>\n",
       "      <td>-1.274798</td>\n",
       "      <td>Normal</td>\n",
       "    </tr>\n",
       "    <tr>\n",
       "      <th>2</th>\n",
       "      <td>0.466</td>\n",
       "      <td>-0.605</td>\n",
       "      <td>-0.116695</td>\n",
       "      <td>0.091405</td>\n",
       "      <td>0.148230</td>\n",
       "      <td>0.022064</td>\n",
       "      <td>0.946745</td>\n",
       "      <td>3.143757</td>\n",
       "      <td>-1.270240</td>\n",
       "      <td>Normal</td>\n",
       "    </tr>\n",
       "    <tr>\n",
       "      <th>3</th>\n",
       "      <td>0.356</td>\n",
       "      <td>-0.713</td>\n",
       "      <td>-0.117174</td>\n",
       "      <td>0.094340</td>\n",
       "      <td>0.150430</td>\n",
       "      <td>-0.088984</td>\n",
       "      <td>0.858388</td>\n",
       "      <td>2.366546</td>\n",
       "      <td>-1.283821</td>\n",
       "      <td>Normal</td>\n",
       "    </tr>\n",
       "    <tr>\n",
       "      <th>4</th>\n",
       "      <td>0.500</td>\n",
       "      <td>-0.647</td>\n",
       "      <td>-0.117876</td>\n",
       "      <td>0.093033</td>\n",
       "      <td>0.150165</td>\n",
       "      <td>-0.036459</td>\n",
       "      <td>0.957214</td>\n",
       "      <td>3.329671</td>\n",
       "      <td>-1.273921</td>\n",
       "      <td>Normal</td>\n",
       "    </tr>\n",
       "    <tr>\n",
       "      <th>...</th>\n",
       "      <td>...</td>\n",
       "      <td>...</td>\n",
       "      <td>...</td>\n",
       "      <td>...</td>\n",
       "      <td>...</td>\n",
       "      <td>...</td>\n",
       "      <td>...</td>\n",
       "      <td>...</td>\n",
       "      <td>...</td>\n",
       "      <td>...</td>\n",
       "    </tr>\n",
       "    <tr>\n",
       "      <th>460</th>\n",
       "      <td>0.229</td>\n",
       "      <td>-0.488</td>\n",
       "      <td>-0.118015</td>\n",
       "      <td>0.083851</td>\n",
       "      <td>0.144769</td>\n",
       "      <td>-0.067698</td>\n",
       "      <td>0.233650</td>\n",
       "      <td>1.581825</td>\n",
       "      <td>-1.226706</td>\n",
       "      <td>Roller Element</td>\n",
       "    </tr>\n",
       "    <tr>\n",
       "      <th>461</th>\n",
       "      <td>0.303</td>\n",
       "      <td>-0.569</td>\n",
       "      <td>-0.117486</td>\n",
       "      <td>0.082563</td>\n",
       "      <td>0.143595</td>\n",
       "      <td>-0.005831</td>\n",
       "      <td>0.369785</td>\n",
       "      <td>2.110106</td>\n",
       "      <td>-1.222223</td>\n",
       "      <td>Roller Element</td>\n",
       "    </tr>\n",
       "    <tr>\n",
       "      <th>462</th>\n",
       "      <td>0.232</td>\n",
       "      <td>-0.569</td>\n",
       "      <td>-0.116743</td>\n",
       "      <td>0.084937</td>\n",
       "      <td>0.144371</td>\n",
       "      <td>-0.041197</td>\n",
       "      <td>0.247918</td>\n",
       "      <td>1.606971</td>\n",
       "      <td>-1.236654</td>\n",
       "      <td>Roller Element</td>\n",
       "    </tr>\n",
       "    <tr>\n",
       "      <th>463</th>\n",
       "      <td>0.293</td>\n",
       "      <td>-0.771</td>\n",
       "      <td>-0.117529</td>\n",
       "      <td>0.083075</td>\n",
       "      <td>0.143924</td>\n",
       "      <td>-0.024656</td>\n",
       "      <td>0.533415</td>\n",
       "      <td>2.035792</td>\n",
       "      <td>-1.224588</td>\n",
       "      <td>Roller Element</td>\n",
       "    </tr>\n",
       "    <tr>\n",
       "      <th>464</th>\n",
       "      <td>0.227</td>\n",
       "      <td>-0.537</td>\n",
       "      <td>-0.117737</td>\n",
       "      <td>0.082736</td>\n",
       "      <td>0.143899</td>\n",
       "      <td>-0.019219</td>\n",
       "      <td>0.263400</td>\n",
       "      <td>1.577499</td>\n",
       "      <td>-1.222208</td>\n",
       "      <td>Roller Element</td>\n",
       "    </tr>\n",
       "  </tbody>\n",
       "</table>\n",
       "<p>2278 rows × 10 columns</p>\n",
       "</div>"
      ],
      "text/plain": [
       "       Max    Min      Mean       Std       RMS  Skewness  Kurtosis  \\\n",
       "0    0.398 -0.625 -0.117085  0.093069  0.149567 -0.012753  0.931376   \n",
       "1    0.422 -0.657 -0.117744  0.093095  0.150100 -0.033307  0.876667   \n",
       "2    0.466 -0.605 -0.116695  0.091405  0.148230  0.022064  0.946745   \n",
       "3    0.356 -0.713 -0.117174  0.094340  0.150430 -0.088984  0.858388   \n",
       "4    0.500 -0.647 -0.117876  0.093033  0.150165 -0.036459  0.957214   \n",
       "..     ...    ...       ...       ...       ...       ...       ...   \n",
       "460  0.229 -0.488 -0.118015  0.083851  0.144769 -0.067698  0.233650   \n",
       "461  0.303 -0.569 -0.117486  0.082563  0.143595 -0.005831  0.369785   \n",
       "462  0.232 -0.569 -0.116743  0.084937  0.144371 -0.041197  0.247918   \n",
       "463  0.293 -0.771 -0.117529  0.083075  0.143924 -0.024656  0.533415   \n",
       "464  0.227 -0.537 -0.117737  0.082736  0.143899 -0.019219  0.263400   \n",
       "\n",
       "     Crest Factor  Form Factor           Fault  \n",
       "0        2.661008    -1.277421          Normal  \n",
       "1        2.811460    -1.274798          Normal  \n",
       "2        3.143757    -1.270240          Normal  \n",
       "3        2.366546    -1.283821          Normal  \n",
       "4        3.329671    -1.273921          Normal  \n",
       "..            ...          ...             ...  \n",
       "460      1.581825    -1.226706  Roller Element  \n",
       "461      2.110106    -1.222223  Roller Element  \n",
       "462      1.606971    -1.236654  Roller Element  \n",
       "463      2.035792    -1.224588  Roller Element  \n",
       "464      1.577499    -1.222208  Roller Element  \n",
       "\n",
       "[2278 rows x 10 columns]"
      ]
     },
     "execution_count": 3,
     "metadata": {},
     "output_type": "execute_result"
    }
   ],
   "source": [
    "df = pd.concat([df1,df2,df3,df4,df5])\n",
    "df"
   ]
  },
  {
   "cell_type": "code",
   "execution_count": null,
   "id": "df80e137",
   "metadata": {
    "id": "df80e137"
   },
   "outputs": [],
   "source": [
    "X = df.drop(['Fault'], axis=1)\n",
    "y = df['Fault']\n",
    "scaler = StandardScaler()\n",
    "X = scaler.fit_transform(X)\n",
    "le = LabelEncoder()\n",
    "y = le.fit_transform(y)\n",
    "ohe = OneHotEncoder()\n",
    "y = ohe.fit_transform(y.reshape(-1, 1)).toarray()"
   ]
  },
  {
   "cell_type": "code",
   "execution_count": null,
   "id": "eaefd87b",
   "metadata": {
    "id": "eaefd87b"
   },
   "outputs": [],
   "source": [
    "from sklearn.model_selection import train_test_split\n",
    "X_train, X_test, y_train, y_test = train_test_split(X, y, test_size=0.2, random_state=42)"
   ]
  },
  {
   "cell_type": "code",
   "execution_count": null,
   "id": "b9e2d6dd",
   "metadata": {
    "id": "b9e2d6dd"
   },
   "outputs": [],
   "source": [
    "# Build model\n",
    "model = Sequential()\n",
    "model.add(Dense(64, input_shape=(X_train.shape[1],), activation='relu'))\n",
    "model.add(Dropout(0.2))\n",
    "model.add(Dense(32, activation='relu'))\n",
    "model.add(Dropout(0.2))\n",
    "model.add(Dense(y_train.shape[1], activation='softmax'))\n",
    "model.compile(loss='categorical_crossentropy', optimizer=Adam(learning_rate=0.001), metrics=['accuracy'])"
   ]
  },
  {
   "cell_type": "code",
   "execution_count": null,
   "id": "a800bfb3",
   "metadata": {
    "id": "a800bfb3",
    "outputId": "a8510b6d-1126-43df-987b-572aadaab39c"
   },
   "outputs": [
    {
     "name": "stdout",
     "output_type": "stream",
     "text": [
      "Model: \"sequential_1\"\n",
      "_________________________________________________________________\n",
      " Layer (type)                Output Shape              Param #   \n",
      "=================================================================\n",
      " dense_3 (Dense)             (None, 64)                640       \n",
      "                                                                 \n",
      " dropout_2 (Dropout)         (None, 64)                0         \n",
      "                                                                 \n",
      " dense_4 (Dense)             (None, 32)                2080      \n",
      "                                                                 \n",
      " dropout_3 (Dropout)         (None, 32)                0         \n",
      "                                                                 \n",
      " dense_5 (Dense)             (None, 4)                 132       \n",
      "                                                                 \n",
      "=================================================================\n",
      "Total params: 2,852\n",
      "Trainable params: 2,852\n",
      "Non-trainable params: 0\n",
      "_________________________________________________________________\n"
     ]
    }
   ],
   "source": [
    "model.summary()"
   ]
  },
  {
   "cell_type": "code",
   "execution_count": null,
   "id": "e7d5a3d3",
   "metadata": {
    "id": "e7d5a3d3",
    "outputId": "a6da92ec-bf85-48f8-ce11-f20d57054a36"
   },
   "outputs": [
    {
     "data": {
      "text/plain": [
       "<keras.callbacks.History at 0x17a1245e9a0>"
      ]
     },
     "execution_count": 15,
     "metadata": {},
     "output_type": "execute_result"
    }
   ],
   "source": [
    "# Train model\n",
    "model.fit(X_train, y_train, epochs=100, batch_size=32, verbose=0)"
   ]
  },
  {
   "cell_type": "code",
   "execution_count": null,
   "id": "72f9c183",
   "metadata": {
    "id": "72f9c183",
    "outputId": "b9081952-5587-4f27-f792-d47fd9460042"
   },
   "outputs": [
    {
     "name": "stdout",
     "output_type": "stream",
     "text": [
      "Test loss: 0.14336371421813965\n",
      "Test accuracy: 0.9539473652839661\n"
     ]
    }
   ],
   "source": [
    "# Evaluate model\n",
    "loss, acc = model.evaluate(X_test, y_test, verbose=0)\n",
    "print('Test loss:', loss)\n",
    "print('Test accuracy:', acc)"
   ]
  }
 ],
 "metadata": {
  "colab": {
   "provenance": []
  },
  "kernelspec": {
   "display_name": "Python 3 (ipykernel)",
   "language": "python",
   "name": "python3"
  },
  "language_info": {
   "codemirror_mode": {
    "name": "ipython",
    "version": 3
   },
   "file_extension": ".py",
   "mimetype": "text/x-python",
   "name": "python",
   "nbconvert_exporter": "python",
   "pygments_lexer": "ipython3",
   "version": "3.9.12"
  }
 },
 "nbformat": 4,
 "nbformat_minor": 5
}
